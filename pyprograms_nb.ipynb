{
  "nbformat": 4,
  "nbformat_minor": 0,
  "metadata": {
    "colab": {
      "provenance": [],
      "authorship_tag": "ABX9TyMSJi4sMDgU5mXAL80Aiuy7",
      "include_colab_link": true
    },
    "kernelspec": {
      "name": "python3",
      "display_name": "Python 3"
    },
    "language_info": {
      "name": "python"
    }
  },
  "cells": [
    {
      "cell_type": "markdown",
      "metadata": {
        "id": "view-in-github",
        "colab_type": "text"
      },
      "source": [
        "<a href=\"https://colab.research.google.com/github/TasmiyaSabha/TasmiyaSabha/blob/python/pyprograms_nb.ipynb\" target=\"_parent\"><img src=\"https://colab.research.google.com/assets/colab-badge.svg\" alt=\"Open In Colab\"/></a>"
      ]
    },
    {
      "cell_type": "markdown",
      "source": [
        "**1.Conduct linear serach after taking a number from the user**"
      ],
      "metadata": {
        "id": "-K2Og85xOwl9"
      }
    },
    {
      "cell_type": "code",
      "execution_count": 126,
      "metadata": {
        "colab": {
          "base_uri": "https://localhost:8080/"
        },
        "id": "Vr0wB2_a3jHv",
        "outputId": "af03da21-051a-4912-a2ee-2ab8de4d49c7"
      },
      "outputs": [
        {
          "output_type": "stream",
          "name": "stdout",
          "text": [
            "Enter the list of numbers: 2 3 4 5 21 33 444 55 3  33\n",
            "The number to search for: 4\n",
            "Element found at index:  2\n"
          ]
        }
      ],
      "source": [
        "#Conduct linear serach after taking a number from the user\n",
        "\n",
        "def linear_Search(listt, n, key):  \n",
        "    for i in range(0, n):  \n",
        "        if (listt[i] == key):  \n",
        "            return i  \n",
        "    return -1  \n",
        "   \n",
        "listt = input('Enter the list of numbers: ')\n",
        "listt = listt.split()\n",
        "listt = [int(x) for x in listt]\n",
        "key = int(input('The number to search for: '))\n",
        "  \n",
        "n = len(listt)  \n",
        "index = linear_Search(listt, n, key)  \n",
        "if(index == -1):  \n",
        "    print(\"Element not found\")  \n",
        "else:  \n",
        "    print(\"Element found at index: \", index)  "
      ]
    },
    {
      "cell_type": "markdown",
      "source": [
        "**2.Conduct binary search after taking a number from the user**"
      ],
      "metadata": {
        "id": "5q0yXuG_O47C"
      }
    },
    {
      "cell_type": "code",
      "source": [
        "#Conduct binary search after taking a number from the user\n",
        "\n",
        "def binary_search(lisst, n):  \n",
        "    low = 0  \n",
        "    high = len(lisst) - 1  \n",
        "    mid = 0  \n",
        "  \n",
        "    while low <= high:  \n",
        "        mid = (high + low) // 2  \n",
        "  \n",
        "        if lisst[mid] < n:  \n",
        "            low = mid + 1  \n",
        "  \n",
        "        elif lisst[mid] > n:  \n",
        "            high = mid - 1  \n",
        "  \n",
        "        else:  \n",
        "            return mid  \n",
        "  \n",
        "    return -1  \n",
        "lisst = input('Enter the list of numbers: ')\n",
        "lisst = lisst.split()\n",
        "lisst = [int(x) for x in lisst]\n",
        "n = int(input('The number to search for: ')) \n",
        "\n",
        "  \n",
        "# Function call   \n",
        "result = binary_search(lisst, n)  \n",
        "  \n",
        "if result != -1:  \n",
        "    print(\"Element is present at index\", str(result))  \n",
        "else:  \n",
        "    print(\"Element is not present in list1\")  "
      ],
      "metadata": {
        "colab": {
          "base_uri": "https://localhost:8080/"
        },
        "id": "-ewpSKMl7YgI",
        "outputId": "38c21ddc-f839-40c8-9b03-eb7474dbde07"
      },
      "execution_count": 127,
      "outputs": [
        {
          "output_type": "stream",
          "name": "stdout",
          "text": [
            "Enter the list of numbers: 2 3 4 5 6 7  8 9  10 101\n",
            "The number to search for: 9\n",
            "Element is present at index 7\n"
          ]
        }
      ]
    },
    {
      "cell_type": "markdown",
      "source": [
        "**3.Conduct bubble sorting after taking a number from the user**"
      ],
      "metadata": {
        "id": "QQ6NRPZ2O8M8"
      }
    },
    {
      "cell_type": "code",
      "source": [
        "3#Conduct bubble sorting after taking a number from the user\n",
        "\n",
        "a = []\n",
        "number = int(input(\"Please Enter the Total Elements : \"))\n",
        "for i in range(number):\n",
        "    value = int(input(\"Please enter the %d Item : \" %i))\n",
        "    a.append(value)\n",
        "\n",
        "for i in range(number -1):\n",
        "    for j in range(number - i - 1):\n",
        "        if(a[j] > a[j + 1]):\n",
        "             temp = a[j]\n",
        "             a[j] = a[j + 1]\n",
        "             a[j + 1] = temp\n",
        "\n",
        "print(\"The Result in Ascending Order : \", a)\n",
        "\n"
      ],
      "metadata": {
        "colab": {
          "base_uri": "https://localhost:8080/"
        },
        "id": "As9l9yjhM1CE",
        "outputId": "8731bfc1-3577-4f7c-e869-547427279a26"
      },
      "execution_count": 128,
      "outputs": [
        {
          "output_type": "stream",
          "name": "stdout",
          "text": [
            "Please Enter the Total Elements : 3\n",
            "Please enter the 0 Item : 1 \n",
            "Please enter the 1 Item : 2 \n",
            "Please enter the 2 Item : 3\n",
            "The Result in Ascending Order :  [1, 2, 3]\n"
          ]
        }
      ]
    },
    {
      "cell_type": "markdown",
      "source": [
        "**4.Working of Bubble Sort** "
      ],
      "metadata": {
        "id": "1hyZDiJEO_yf"
      }
    },
    {
      "cell_type": "code",
      "source": [
        "#Working of Bubble Sort\n",
        "\n",
        "Suppose we are trying to sort the elements in ascending order.\n",
        "\n",
        "In,First Iteration \n",
        "Compare the list and  Swap\n",
        "\n",
        "Starting from the first index, compare the first and the second elements.If the first \n",
        "element is greater than the second element, they are swapped.If that is not the case then\n",
        "the elements are kept as it is.Now, compare the second and the third elements. Swap them if they are not in order.\n",
        "The above process goes on until the last element.\n"
      ],
      "metadata": {
        "id": "5pfs3P3594DL"
      },
      "execution_count": null,
      "outputs": []
    },
    {
      "cell_type": "markdown",
      "source": [
        "**5.Find mean, median and mode of the dataset.**"
      ],
      "metadata": {
        "id": "mSZzH7renW-t"
      }
    },
    {
      "cell_type": "code",
      "source": [
        "import numpy\n",
        "from scipy import stats\n",
        " \n",
        "# unsorted list of random integers\n",
        "#data1 = [ 3, 6, 9,2, 4, 6, ]\n",
        "data1=[]\n",
        "print(\"Enter20 Elements\")\n",
        "for i in range(20):\n",
        "  data1.insert(i,int(input()))\n",
        "a=numpy.mean(data1)\n",
        "b=numpy.median(data1)\n",
        "c=stats.mode(data1)\n",
        "print(a)\n",
        "print(b)\n",
        "print(c)"
      ],
      "metadata": {
        "colab": {
          "base_uri": "https://localhost:8080/"
        },
        "id": "eln-UScRngqh",
        "outputId": "ce3e0212-ee0d-48ae-92e0-70d88ab4eeb7"
      },
      "execution_count": 143,
      "outputs": [
        {
          "output_type": "stream",
          "name": "stdout",
          "text": [
            "Enter 20 Elements\n",
            "2\n",
            "3\n",
            "4\n",
            "5\n",
            "6\n",
            "7\n",
            "8\n",
            "9\n",
            "11\n",
            "22\n",
            "33\n",
            "44\n",
            "55\n",
            "6\n",
            "77\n",
            "8\n",
            "99\n",
            "67\n",
            "86\n",
            "67\n",
            "30.95\n",
            "10.0\n",
            "ModeResult(mode=array([6]), count=array([2]))\n"
          ]
        }
      ]
    },
    {
      "cell_type": "markdown",
      "source": [
        "**6.Find all prime numbers in the list**"
      ],
      "metadata": {
        "id": "9euN-fTVPNBA"
      }
    },
    {
      "cell_type": "code",
      "source": [
        "num=[]\n",
        "print(\"Enter 5 Elements\")\n",
        "for i in range(5):\n",
        "  num.insert(i,int(input()))\n",
        "for n  in num:\n",
        "  if n> 1:\n",
        "    for j in range(2,n):\n",
        "      if (n % j) == 0:\n",
        "        break\n",
        "      else:\n",
        "        print(n)\n",
        "        break"
      ],
      "metadata": {
        "colab": {
          "base_uri": "https://localhost:8080/"
        },
        "id": "lkLNZ7minCwY",
        "outputId": "e3cfb81c-b077-4998-fdb6-f29603dab842"
      },
      "execution_count": 141,
      "outputs": [
        {
          "output_type": "stream",
          "name": "stdout",
          "text": [
            "Enter 5 Elements\n",
            "22\n",
            "23\n",
            "11\n",
            "7\n",
            "2\n",
            "23\n",
            "11\n",
            "7\n"
          ]
        }
      ]
    }
  ]
}