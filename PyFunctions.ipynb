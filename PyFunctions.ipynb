{
  "nbformat": 4,
  "nbformat_minor": 0,
  "metadata": {
    "colab": {
      "provenance": [],
      "authorship_tag": "ABX9TyMqKWKYQ0po4VlVkVIQwbLc",
      "include_colab_link": true
    },
    "kernelspec": {
      "name": "python3",
      "display_name": "Python 3"
    },
    "language_info": {
      "name": "python"
    }
  },
  "cells": [
    {
      "cell_type": "markdown",
      "metadata": {
        "id": "view-in-github",
        "colab_type": "text"
      },
      "source": [
        "<a href=\"https://colab.research.google.com/github/TasmiyaSabha/TasmiyaSabha/blob/python/PyFunctions.ipynb\" target=\"_parent\"><img src=\"https://colab.research.google.com/assets/colab-badge.svg\" alt=\"Open In Colab\"/></a>"
      ]
    },
    {
      "cell_type": "code",
      "execution_count": 6,
      "metadata": {
        "id": "aFmKk_1Z_OSd",
        "colab": {
          "base_uri": "https://localhost:8080/"
        },
        "outputId": "1c4da7dd-48d4-4248-ca71-0ac0aac87ae9"
      },
      "outputs": [
        {
          "output_type": "stream",
          "name": "stdout",
          "text": [
            "a= (2, 3, 4, 1, 56, 87) b= 6\n"
          ]
        }
      ],
      "source": [
        "#Create a function in such a way that we can pass any number of arguments to this function, and the function should process them and display each argument’s value \n",
        "\n",
        "def n_args(*a,b):\n",
        "  print(\"a=\",a,\"b=\",b)\n",
        "n_args(2,3,4,1,56,87,b=6)\n"
      ]
    },
    {
      "cell_type": "code",
      "source": [
        "#Write a program to create function calculation() such that it can accept two variables and calculate addition and subtraction. \n",
        "#Also, it must return both addition and subtraction in a single return call. \n",
        " \n",
        "def calculation():\n",
        "  s=int(input(\"Enter value a=\"))\n",
        "  r=int(input(\"enter value b=\"))\n",
        "  p=s+r\n",
        "  t=s-r\n",
        "  return p,t\n",
        "calculation()\n",
        "  "
      ],
      "metadata": {
        "colab": {
          "base_uri": "https://localhost:8080/"
        },
        "id": "znuv04OZNVn8",
        "outputId": "a8313fde-4868-4d11-e462-e91190b7e402"
      },
      "execution_count": 9,
      "outputs": [
        {
          "name": "stdout",
          "output_type": "stream",
          "text": [
            "Enter value a=10\n",
            "enter value b=7\n"
          ]
        },
        {
          "output_type": "execute_result",
          "data": {
            "text/plain": [
              "(17, 3)"
            ]
          },
          "metadata": {},
          "execution_count": 9
        }
      ]
    },
    {
      "cell_type": "code",
      "source": [
        "#Write a program to create a function show_employee() using the following conditions. \n",
        "#A)It should accept the employee’s name and salary and display both. \n",
        "\n",
        "#B)If the salary is missing in the function call then assign default value 9000 to salary \n",
        "\n",
        "def show_employee(e_name,salary=9000):\n",
        "  print('employee_name=',e_name,'\\nsalary=',salary)\n",
        " # employee_name=int(input(\"Enter value =\"))\n",
        "  #salary =int(input(\"enter value =\"))\n",
        " \n",
        "\n",
        "show_employee('Ria')\n"
      ],
      "metadata": {
        "colab": {
          "base_uri": "https://localhost:8080/"
        },
        "id": "sNIitP7BOcih",
        "outputId": "b315d36f-9567-46db-e3aa-bf5f7eee9d23"
      },
      "execution_count": 37,
      "outputs": [
        {
          "output_type": "stream",
          "name": "stdout",
          "text": [
            "employee_name= Ria \n",
            "salary= 9000\n"
          ]
        }
      ]
    },
    {
      "cell_type": "code",
      "source": [
        "#Create an outer function that will accept two parameters, a and b,   Create an inner function inside an outer function\n",
        "# that will calculate the addition of a and b,  At last, an outer function will add 5 into addition and return it \n",
        "\n",
        "def outer_f(a,b):\n",
        "  def inner_f():\n",
        "    summ=a+b\n",
        "  inner_f()\n",
        "  return ((a+b)+5)\n",
        "outer_f(2,5)"
      ],
      "metadata": {
        "colab": {
          "base_uri": "https://localhost:8080/"
        },
        "id": "aI78vL6YQjML",
        "outputId": "6a1d9ae0-3447-484b-c981-b429c6612dd5"
      },
      "execution_count": 38,
      "outputs": [
        {
          "output_type": "execute_result",
          "data": {
            "text/plain": [
              "12"
            ]
          },
          "metadata": {},
          "execution_count": 38
        }
      ]
    }
  ]
}