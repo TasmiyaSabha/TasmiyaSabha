{
  "nbformat": 4,
  "nbformat_minor": 0,
  "metadata": {
    "colab": {
      "provenance": [],
      "authorship_tag": "ABX9TyNYJOVPmwYNJhWcEaHoN72s",
      "include_colab_link": true
    },
    "kernelspec": {
      "name": "python3",
      "display_name": "Python 3"
    },
    "language_info": {
      "name": "python"
    }
  },
  "cells": [
    {
      "cell_type": "markdown",
      "metadata": {
        "id": "view-in-github",
        "colab_type": "text"
      },
      "source": [
        "<a href=\"https://colab.research.google.com/github/TasmiyaSabha/TasmiyaSabha/blob/python/OOPs.ipynb\" target=\"_parent\"><img src=\"https://colab.research.google.com/assets/colab-badge.svg\" alt=\"Open In Colab\"/></a>"
      ]
    },
    {
      "cell_type": "code",
      "execution_count": null,
      "metadata": {
        "colab": {
          "base_uri": "https://localhost:8080/"
        },
        "id": "Vkfr2EhmuR7H",
        "outputId": "70cfa3b3-1c4a-4e5c-827a-e38f0b3b802d"
      },
      "outputs": [
        {
          "output_type": "stream",
          "name": "stdout",
          "text": [
            "Student ID: 10 \n",
            "Student Name: Ayath\n",
            "student_class: 10-A\n",
            "Student ID: 10 \n",
            "Student Name: Ayath\n"
          ]
        }
      ],
      "source": [
        "#1.Write a Python class named Student with two attributes student_id, student_name. Add a new attribute student_class and display the entire attribute and their values of the said class. \n",
        "# Now remove the student_name attribute and display the entire attribute with values.\n",
        "\n",
        "class student:\n",
        "  student_class=\"10-A\"\n",
        "  def __init__(self,student_id,student_name):\n",
        "    self.student_id=student_id\n",
        "    self.student_name=student_name\n",
        "  def student_data(self):\n",
        "    print(\"Student ID:\",self.student_id,\"\\nStudent Name:\",self.student_name)\n",
        "p=student(\"10\",\"Ayath\")\n",
        "p.student_data()\n",
        "print(\"student_class:\",student.student_class)\n",
        "del student.student_class\n",
        "p.student_data()"
      ]
    },
    {
      "cell_type": "code",
      "source": [
        "p.student_data()"
      ],
      "metadata": {
        "colab": {
          "base_uri": "https://localhost:8080/"
        },
        "id": "anjQaz4TCLIu",
        "outputId": "462db90e-d709-41ce-f18d-926a45debe31"
      },
      "execution_count": null,
      "outputs": [
        {
          "output_type": "stream",
          "name": "stdout",
          "text": [
            "Student ID: 10 \n",
            "Student Name: Ayath\n"
          ]
        }
      ]
    },
    {
      "cell_type": "code",
      "source": [
        "p.student_id=6\n",
        "p.student_data()"
      ],
      "metadata": {
        "colab": {
          "base_uri": "https://localhost:8080/"
        },
        "id": "SkHc1ofVwkS0",
        "outputId": "2b9bfa9d-0706-4ba3-f43a-7a592ab82ad7"
      },
      "execution_count": null,
      "outputs": [
        {
          "output_type": "stream",
          "name": "stdout",
          "text": [
            "Student ID: 6 \n",
            "Student Name: Ayath \n",
            "Student class: A sec\n"
          ]
        }
      ]
    },
    {
      "cell_type": "code",
      "source": [
        "#2.write a python class to implement pow(x,n)\n",
        "\n",
        "class power:\n",
        "  def __init__(self,x,n):\n",
        "    self.x=x\n",
        "    self.n=n\n",
        "  def pow_r(self):\n",
        "    print(\"Pow(x,n):\",self.x**self.n)\n",
        "p=power(1000,1)\n",
        "p.pow_r()"
      ],
      "metadata": {
        "colab": {
          "base_uri": "https://localhost:8080/"
        },
        "id": "jnEtbago6DfC",
        "outputId": "6ae4d77d-4146-48d3-ed42-a3430150f018"
      },
      "execution_count": null,
      "outputs": [
        {
          "output_type": "stream",
          "name": "stdout",
          "text": [
            "Pow(x,n): 1000\n"
          ]
        }
      ]
    },
    {
      "cell_type": "code",
      "source": [
        "#3.write a program to create a python class to reverse a string word by word\n",
        "\n",
        "class rev_wrd:\n",
        "  word=\"Python Programming\"\n",
        "  strng=word.split()[::-1]\n",
        "  def rev_res(self):\n",
        "    print(\"Reversed String:\",\" \".join(rev_wrd.strng))\n",
        "result=rev_wrd()\n",
        "result.rev_res()\n"
      ],
      "metadata": {
        "colab": {
          "base_uri": "https://localhost:8080/"
        },
        "id": "Be2L1eKeumQj",
        "outputId": "6239d972-7f22-483b-b26f-ce4a0029b6c5"
      },
      "execution_count": null,
      "outputs": [
        {
          "output_type": "stream",
          "name": "stdout",
          "text": [
            "Reversed String: Programming Python\n"
          ]
        }
      ]
    },
    {
      "cell_type": "code",
      "source": [
        "#4.Write a Python class named Circle constructed by a radius and two methods which will\n",
        "#compute the area and the perimeter of a circle\n",
        "import math as m\n",
        "class circle:\n",
        "  def __init__(self, r):\n",
        "    self.r=r\n",
        "  def area(self):\n",
        "    print(\"Area of the circle:\",self.r**2*m.pi)\n",
        "  def perimeter(self):\n",
        "    print(\"perimeter of the Circle:\",self.r*2*m.pi)\n",
        "result=circle(5)\n",
        "result.area()\n",
        "result.perimeter()"
      ],
      "metadata": {
        "colab": {
          "base_uri": "https://localhost:8080/"
        },
        "id": "2AZc8fKH3HmX",
        "outputId": "a35d61c7-3186-42be-96f8-a591338f5b3e"
      },
      "execution_count": null,
      "outputs": [
        {
          "output_type": "stream",
          "name": "stdout",
          "text": [
            "Area of the circle: 78.53981633974483\n",
            "perimeter of the Circle: 31.41592653589793\n"
          ]
        }
      ]
    },
    {
      "cell_type": "code",
      "source": [
        "#5.Write a Python class to convert a roman numeral to an integer\n",
        "class rtoi:\n",
        "  roman={'I':1,\"V\":5,'X':10,'L':50,'C':100,'D':500, 'M': 1000}\n",
        "  def __init__(self,rom):\n",
        "    self.rom=rom\n",
        "    for i in rtoi.roman.items():\n",
        "      if(rtoi.roman.keys()==self.rom):\n",
        "        print(rtoi.roman.values())\n",
        "  def covRes(self):\n",
        "    print(\"Roman numeral to Integer:\",rtoi.roman.values())\n",
        "\n",
        "c=rtoi(\"X\")\n",
        "c.covRes()\n"
      ],
      "metadata": {
        "colab": {
          "base_uri": "https://localhost:8080/"
        },
        "id": "T-HBseE0CuZ7",
        "outputId": "dd43cfd5-cd74-46e6-a69f-754ab4769c08"
      },
      "execution_count": null,
      "outputs": [
        {
          "output_type": "stream",
          "name": "stdout",
          "text": [
            "Roman numeral to Integer: dict_values([1, 5, 10, 50, 100, 500, 1000])\n"
          ]
        }
      ]
    },
    {
      "cell_type": "code",
      "source": [
        "class py_solution:\n",
        "    def roman_to_int(self, s):\n",
        "        rom_val = {'I': 1, 'V': 5, 'X': 10, 'L': 50, 'C': 100, 'D': 500, 'M': 1000}\n",
        "        int_val = 0\n",
        "        for i in range(len(s)):\n",
        "            if i > 0 and rom_val[s[i]] > rom_val[s[i - 1]]:\n",
        "                int_val += rom_val[s[i]] - 2 * rom_val[s[i - 1]]\n",
        "            else:\n",
        "                int_val += rom_val[s[i]]\n",
        "        return int_val\n",
        "print(py_solution().roman_to_int('MMMM'))\n",
        "print(py_solution().roman_to_int('X'))"
      ],
      "metadata": {
        "colab": {
          "base_uri": "https://localhost:8080/"
        },
        "id": "ZoFiPNuxQUkJ",
        "outputId": "3a94719e-941b-4f77-f3d1-dee67926ddc7"
      },
      "execution_count": null,
      "outputs": [
        {
          "output_type": "stream",
          "name": "stdout",
          "text": [
            "4000\n",
            "10\n"
          ]
        }
      ]
    }
  ]
}