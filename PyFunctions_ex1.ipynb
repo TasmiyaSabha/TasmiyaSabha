{
  "nbformat": 4,
  "nbformat_minor": 0,
  "metadata": {
    "colab": {
      "provenance": [],
      "authorship_tag": "ABX9TyMgAwki+MKs2O2UYO4+IoS5",
      "include_colab_link": true
    },
    "kernelspec": {
      "name": "python3",
      "display_name": "Python 3"
    },
    "language_info": {
      "name": "python"
    }
  },
  "cells": [
    {
      "cell_type": "markdown",
      "metadata": {
        "id": "view-in-github",
        "colab_type": "text"
      },
      "source": [
        "<a href=\"https://colab.research.google.com/github/TasmiyaSabha/TasmiyaSabha/blob/Sql/PyFunctions_ex1.ipynb\" target=\"_parent\"><img src=\"https://colab.research.google.com/assets/colab-badge.svg\" alt=\"Open In Colab\"/></a>"
      ]
    },
    {
      "cell_type": "code",
      "execution_count": 6,
      "metadata": {
        "id": "aFmKk_1Z_OSd",
        "colab": {
          "base_uri": "https://localhost:8080/"
        },
        "outputId": "1c4da7dd-48d4-4248-ca71-0ac0aac87ae9"
      },
      "outputs": [
        {
          "output_type": "stream",
          "name": "stdout",
          "text": [
            "a= (2, 3, 4, 1, 56, 87) b= 6\n"
          ]
        }
      ],
      "source": [
        "#Create a function in such a way that we can pass any number of arguments to this function, and the function should process them and display each argument’s value \n",
        "\n",
        "def n_args(*a,b):\n",
        "  print(\"a=\",a,\"b=\",b)\n",
        "n_args(2,3,4,1,56,87,b=6)\n"
      ]
    },
    {
      "cell_type": "code",
      "source": [
        "#Write a program to create function calculation() such that it can accept two variables and calculate addition and subtraction. \n",
        "#Also, it must return both addition and subtraction in a single return call. \n",
        " \n",
        "def calculation():\n",
        "  s=int(input(\"Enter value a=\"))\n",
        "  r=int(input(\"enter value b=\"))\n",
        "  p=s+r\n",
        "  t=s-r\n",
        "  return p,t\n",
        "calculation()\n",
        "  "
      ],
      "metadata": {
        "colab": {
          "base_uri": "https://localhost:8080/"
        },
        "id": "znuv04OZNVn8",
        "outputId": "a8313fde-4868-4d11-e462-e91190b7e402"
      },
      "execution_count": 9,
      "outputs": [
        {
          "name": "stdout",
          "output_type": "stream",
          "text": [
            "Enter value a=10\n",
            "enter value b=7\n"
          ]
        },
        {
          "output_type": "execute_result",
          "data": {
            "text/plain": [
              "(17, 3)"
            ]
          },
          "metadata": {},
          "execution_count": 9
        }
      ]
    },
    {
      "cell_type": "code",
      "source": [
        "#Write a program to create a function show_employee() using the following conditions. \n",
        "#A)It should accept the employee’s name and salary and display both. \n",
        "\n",
        "#B)If the salary is missing in the function call then assign default value 9000 to salary \n",
        "\n",
        "def show_employee(e_name,salary=9000):\n",
        "  print('employee_name=',e_name,'\\nsalary=',salary)\n",
        " # employee_name=int(input(\"Enter value =\"))\n",
        "  #salary =int(input(\"enter value =\"))\n",
        " \n",
        "\n",
        "show_employee('Ria')\n"
      ],
      "metadata": {
        "colab": {
          "base_uri": "https://localhost:8080/"
        },
        "id": "sNIitP7BOcih",
        "outputId": "b315d36f-9567-46db-e3aa-bf5f7eee9d23"
      },
      "execution_count": 37,
      "outputs": [
        {
          "output_type": "stream",
          "name": "stdout",
          "text": [
            "employee_name= Ria \n",
            "salary= 9000\n"
          ]
        }
      ]
    },
    {
      "cell_type": "code",
      "source": [
        "show_employee('Tia',76000)"
      ],
      "metadata": {
        "colab": {
          "base_uri": "https://localhost:8080/"
        },
        "id": "CnTFbfgyT8mH",
        "outputId": "924c60c8-7800-4c5f-87d0-d8992cc1ba64"
      },
      "execution_count": 40,
      "outputs": [
        {
          "output_type": "stream",
          "name": "stdout",
          "text": [
            "employee_name= Tia \n",
            "salary= 76000\n"
          ]
        }
      ]
    },
    {
      "cell_type": "code",
      "source": [
        "#Create an outer function that will accept two parameters, a and b,   Create an inner function inside an outer function\n",
        "# that will calculate the addition of a and b,  At last, an outer function will add 5 into addition and return it \n",
        "\n",
        "def outer_f(a,b):\n",
        "  def inner_f():\n",
        "    summ=a+b\n",
        "  inner_f()\n",
        "  return ((a+b)+5)\n",
        "outer_f(2,5)"
      ],
      "metadata": {
        "colab": {
          "base_uri": "https://localhost:8080/"
        },
        "id": "aI78vL6YQjML",
        "outputId": "6a1d9ae0-3447-484b-c981-b429c6612dd5"
      },
      "execution_count": 38,
      "outputs": [
        {
          "output_type": "execute_result",
          "data": {
            "text/plain": [
              "12"
            ]
          },
          "metadata": {},
          "execution_count": 38
        }
      ]
    },
    {
      "cell_type": "code",
      "source": [
        "#USE GOOGLE COLAB\n",
        "#1.Take a string as an input from the user.\n",
        "#2.use-> dir(string_name)\n",
        "#3.Perform all the \"actions\" that a string can do, from the previous output of list of actions\n",
        "\n",
        "def string_name():\n",
        "  s_name=input(\"Enter a name=\")\n",
        "  return s_name\n",
        "string_name()\n",
        "\n"
      ],
      "metadata": {
        "colab": {
          "base_uri": "https://localhost:8080/",
          "height": 53
        },
        "id": "1jIluHGNTzzq",
        "outputId": "c9694c2e-4883-449e-e001-ca6e85b4fe6b"
      },
      "execution_count": 58,
      "outputs": [
        {
          "name": "stdout",
          "output_type": "stream",
          "text": [
            "Enter a name=tina\n"
          ]
        },
        {
          "output_type": "execute_result",
          "data": {
            "text/plain": [
              "'tina'"
            ],
            "application/vnd.google.colaboratory.intrinsic+json": {
              "type": "string"
            }
          },
          "metadata": {},
          "execution_count": 58
        }
      ]
    },
    {
      "cell_type": "code",
      "source": [
        "def string_name():\n",
        "  s_name=input(\"Enter a name=\")\n",
        "  return len(s_name)\n",
        "string_name()\n"
      ],
      "metadata": {
        "colab": {
          "base_uri": "https://localhost:8080/"
        },
        "id": "UAuMPXejgiNs",
        "outputId": "76ddc4c7-ccdc-48eb-d4f3-bfe4b248f81b"
      },
      "execution_count": 85,
      "outputs": [
        {
          "name": "stdout",
          "output_type": "stream",
          "text": [
            "Enter a name=tinadabi\n"
          ]
        },
        {
          "output_type": "execute_result",
          "data": {
            "text/plain": [
              "8"
            ]
          },
          "metadata": {},
          "execution_count": 85
        }
      ]
    },
    {
      "cell_type": "code",
      "source": [
        "def string_name():\n",
        "  s_name=input(\"Enter a name=\")\n",
        "  return s_name.capitalize()\n",
        "string_name()\n"
      ],
      "metadata": {
        "colab": {
          "base_uri": "https://localhost:8080/",
          "height": 53
        },
        "id": "sPuFRi8Eg2-Z",
        "outputId": "eb96943c-870e-45e1-cb0e-70de69064f70"
      },
      "execution_count": 87,
      "outputs": [
        {
          "name": "stdout",
          "output_type": "stream",
          "text": [
            "Enter a name=ria\n"
          ]
        },
        {
          "output_type": "execute_result",
          "data": {
            "text/plain": [
              "'Ria'"
            ],
            "application/vnd.google.colaboratory.intrinsic+json": {
              "type": "string"
            }
          },
          "metadata": {},
          "execution_count": 87
        }
      ]
    },
    {
      "cell_type": "code",
      "source": [
        "def string_name():\n",
        "  s_name=input(\"Enter a name=\")\n",
        "  return s_name.casefold()\n",
        "string_name()\n"
      ],
      "metadata": {
        "colab": {
          "base_uri": "https://localhost:8080/",
          "height": 53
        },
        "id": "gwMWYGYMhFMV",
        "outputId": "6b6cd782-4873-4eb7-b7c7-f25da3fba0f9"
      },
      "execution_count": 90,
      "outputs": [
        {
          "name": "stdout",
          "output_type": "stream",
          "text": [
            "Enter a name=MIRZA\n"
          ]
        },
        {
          "output_type": "execute_result",
          "data": {
            "text/plain": [
              "'mirza'"
            ],
            "application/vnd.google.colaboratory.intrinsic+json": {
              "type": "string"
            }
          },
          "metadata": {},
          "execution_count": 90
        }
      ]
    },
    {
      "cell_type": "code",
      "source": [
        "def string_name():\n",
        "  s_name=input(\"Enter a name=\")\n",
        "  return s_name.encode()\n",
        "string_name()\n"
      ],
      "metadata": {
        "colab": {
          "base_uri": "https://localhost:8080/"
        },
        "id": "oF2Dhf7ehczX",
        "outputId": "01f7fe82-f4c6-4ec8-d36a-dfeed47254ee"
      },
      "execution_count": 91,
      "outputs": [
        {
          "name": "stdout",
          "output_type": "stream",
          "text": [
            "Enter a name=darlings\n"
          ]
        },
        {
          "output_type": "execute_result",
          "data": {
            "text/plain": [
              "b'darlings'"
            ]
          },
          "metadata": {},
          "execution_count": 91
        }
      ]
    },
    {
      "cell_type": "code",
      "source": [
        "def string_name():\n",
        "  s_name=input(\"Enter a name=\")\n",
        "  return s_name.istitle()\n",
        "string_name()\n"
      ],
      "metadata": {
        "colab": {
          "base_uri": "https://localhost:8080/"
        },
        "id": "EzDANUy6hkv0",
        "outputId": "e055bcea-24c5-41c5-a9ad-865e36329c32"
      },
      "execution_count": 93,
      "outputs": [
        {
          "name": "stdout",
          "output_type": "stream",
          "text": [
            "Enter a name=Rina\n"
          ]
        },
        {
          "output_type": "execute_result",
          "data": {
            "text/plain": [
              "True"
            ]
          },
          "metadata": {},
          "execution_count": 93
        }
      ]
    },
    {
      "cell_type": "code",
      "source": [
        "def string_name():\n",
        "  s_name=input(\"Enter a name=\")\n",
        "  return \",\".join(s_name)\n",
        "string_name()\n"
      ],
      "metadata": {
        "colab": {
          "base_uri": "https://localhost:8080/",
          "height": 53
        },
        "id": "qL_J6gFli2MB",
        "outputId": "4c0ccfea-6887-45d5-d3ed-2d6610ebc0d3"
      },
      "execution_count": 95,
      "outputs": [
        {
          "name": "stdout",
          "output_type": "stream",
          "text": [
            "Enter a name=meera\n"
          ]
        },
        {
          "output_type": "execute_result",
          "data": {
            "text/plain": [
              "'m,e,e,r,a'"
            ],
            "application/vnd.google.colaboratory.intrinsic+json": {
              "type": "string"
            }
          },
          "metadata": {},
          "execution_count": 95
        }
      ]
    },
    {
      "cell_type": "code",
      "source": [
        "txt = \"I could eat bananas all day\"\n",
        "\n",
        "x = txt.partition(\"all\")\n",
        "\n",
        "print(x)"
      ],
      "metadata": {
        "colab": {
          "base_uri": "https://localhost:8080/"
        },
        "id": "0XW8VLzajqgY",
        "outputId": "d4bc0fab-6a6c-48b5-b51d-268cf841f66d"
      },
      "execution_count": 96,
      "outputs": [
        {
          "output_type": "stream",
          "name": "stdout",
          "text": [
            "('I could eat bananas ', 'all', ' day')\n"
          ]
        }
      ]
    },
    {
      "cell_type": "code",
      "source": [
        "txt = \"I could eat bananas all day\"\n",
        "\n",
        "x = txt.isspace()\n",
        "\n",
        "print(x)"
      ],
      "metadata": {
        "colab": {
          "base_uri": "https://localhost:8080/"
        },
        "id": "VSPwOWnMo8m6",
        "outputId": "ee2c5e4c-f753-46a1-943b-394f12aed0cf"
      },
      "execution_count": 107,
      "outputs": [
        {
          "output_type": "stream",
          "name": "stdout",
          "text": [
            "False\n"
          ]
        }
      ]
    },
    {
      "cell_type": "code",
      "source": [
        "format(string_name)"
      ],
      "metadata": {
        "colab": {
          "base_uri": "https://localhost:8080/",
          "height": 36
        },
        "id": "WkTS9ym2dalk",
        "outputId": "80c60858-89ac-46b3-da3f-0aea2e5505ce"
      },
      "execution_count": 69,
      "outputs": [
        {
          "output_type": "execute_result",
          "data": {
            "text/plain": [
              "'<function string_name at 0x7f0704c6ee60>'"
            ],
            "application/vnd.google.colaboratory.intrinsic+json": {
              "type": "string"
            }
          },
          "metadata": {},
          "execution_count": 69
        }
      ]
    },
    {
      "cell_type": "code",
      "source": [
        "hash(string_name)"
      ],
      "metadata": {
        "colab": {
          "base_uri": "https://localhost:8080/"
        },
        "id": "NZf3j4VGeOV_",
        "outputId": "a6583b7d-9929-46f6-df9d-c151016acb52"
      },
      "execution_count": 68,
      "outputs": [
        {
          "output_type": "execute_result",
          "data": {
            "text/plain": [
              "8729257602790"
            ]
          },
          "metadata": {},
          "execution_count": 68
        }
      ]
    },
    {
      "cell_type": "code",
      "source": [
        "str(string_name)"
      ],
      "metadata": {
        "colab": {
          "base_uri": "https://localhost:8080/",
          "height": 36
        },
        "id": "nnOj4fDEeQxe",
        "outputId": "8073f9db-6973-4138-fa5f-bbf724660c78"
      },
      "execution_count": 72,
      "outputs": [
        {
          "output_type": "execute_result",
          "data": {
            "text/plain": [
              "'<function string_name at 0x7f0704c6ee60>'"
            ],
            "application/vnd.google.colaboratory.intrinsic+json": {
              "type": "string"
            }
          },
          "metadata": {},
          "execution_count": 72
        }
      ]
    },
    {
      "cell_type": "code",
      "source": [
        "import sys\n",
        "print(sys.getsizeof(string_name))"
      ],
      "metadata": {
        "colab": {
          "base_uri": "https://localhost:8080/"
        },
        "id": "tsYvbkaeefp4",
        "outputId": "05580e9d-cf16-4253-d8b0-4d18df4f8603"
      },
      "execution_count": 77,
      "outputs": [
        {
          "output_type": "stream",
          "name": "stdout",
          "text": [
            "144\n"
          ]
        }
      ]
    },
    {
      "cell_type": "code",
      "source": [
        "import sys\n",
        "print(sys.getprofile())"
      ],
      "metadata": {
        "colab": {
          "base_uri": "https://localhost:8080/"
        },
        "id": "S_9fotQ1fOp-",
        "outputId": "61b1b91e-0e6d-4871-8ba1-e9450878802f"
      },
      "execution_count": 84,
      "outputs": [
        {
          "output_type": "stream",
          "name": "stdout",
          "text": [
            "None\n"
          ]
        }
      ]
    },
    {
      "cell_type": "code",
      "source": [
        "dir(string_name)"
      ],
      "metadata": {
        "colab": {
          "base_uri": "https://localhost:8080/"
        },
        "id": "GpwZWCqhWtFw",
        "outputId": "ff2a09e2-33b6-4568-d9a2-e61f68a2192a"
      },
      "execution_count": 59,
      "outputs": [
        {
          "output_type": "execute_result",
          "data": {
            "text/plain": [
              "['__annotations__',\n",
              " '__call__',\n",
              " '__class__',\n",
              " '__closure__',\n",
              " '__code__',\n",
              " '__defaults__',\n",
              " '__delattr__',\n",
              " '__dict__',\n",
              " '__dir__',\n",
              " '__doc__',\n",
              " '__eq__',\n",
              " '__format__',\n",
              " '__ge__',\n",
              " '__get__',\n",
              " '__getattribute__',\n",
              " '__globals__',\n",
              " '__gt__',\n",
              " '__hash__',\n",
              " '__init__',\n",
              " '__init_subclass__',\n",
              " '__kwdefaults__',\n",
              " '__le__',\n",
              " '__lt__',\n",
              " '__module__',\n",
              " '__name__',\n",
              " '__ne__',\n",
              " '__new__',\n",
              " '__qualname__',\n",
              " '__reduce__',\n",
              " '__reduce_ex__',\n",
              " '__repr__',\n",
              " '__setattr__',\n",
              " '__sizeof__',\n",
              " '__str__',\n",
              " '__subclasshook__']"
            ]
          },
          "metadata": {},
          "execution_count": 59
        }
      ]
    }
  ]
}