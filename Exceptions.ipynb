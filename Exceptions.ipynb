{
  "nbformat": 4,
  "nbformat_minor": 0,
  "metadata": {
    "colab": {
      "provenance": [],
      "authorship_tag": "ABX9TyO6IuzcozFlKDRLpmmlYqLQ",
      "include_colab_link": true
    },
    "kernelspec": {
      "name": "python3",
      "display_name": "Python 3"
    },
    "language_info": {
      "name": "python"
    }
  },
  "cells": [
    {
      "cell_type": "markdown",
      "metadata": {
        "id": "view-in-github",
        "colab_type": "text"
      },
      "source": [
        "<a href=\"https://colab.research.google.com/github/TasmiyaSabha/TasmiyaSabha/blob/python/Exceptions.ipynb\" target=\"_parent\"><img src=\"https://colab.research.google.com/assets/colab-badge.svg\" alt=\"Open In Colab\"/></a>"
      ]
    },
    {
      "cell_type": "code",
      "execution_count": 1,
      "metadata": {
        "colab": {
          "base_uri": "https://localhost:8080/"
        },
        "id": "zhsnETs1rhGh",
        "outputId": "28c7bd2d-7d5e-4e20-f94d-6a8b038b108a"
      },
      "outputs": [
        {
          "output_type": "stream",
          "name": "stdout",
          "text": [
            "Enter a number2\n",
            "Enter second number2\n",
            "sum is 4\n"
          ]
        }
      ],
      "source": [
        "x= int(input(\"Enter a number\"))\n",
        "y= int(input(\"Enter second number\"))\n",
        "print(\"sum is\",x+y)"
      ]
    },
    {
      "cell_type": "code",
      "source": [
        "x= int(input(\"Enter a number\"))\n",
        "y= input(\"Enter second number\")\n",
        "print(\"sum is\",x+y)"
      ],
      "metadata": {
        "colab": {
          "base_uri": "https://localhost:8080/",
          "height": 235
        },
        "id": "xKk8w2UDrxu8",
        "outputId": "6270a029-73b8-4a87-824f-f367eca5831b"
      },
      "execution_count": 2,
      "outputs": [
        {
          "name": "stdout",
          "output_type": "stream",
          "text": [
            "Enter a number3\n",
            "Enter second number2\n"
          ]
        },
        {
          "output_type": "error",
          "ename": "TypeError",
          "evalue": "ignored",
          "traceback": [
            "\u001b[0;31m---------------------------------------------------------------------------\u001b[0m",
            "\u001b[0;31mTypeError\u001b[0m                                 Traceback (most recent call last)",
            "\u001b[0;32m<ipython-input-2-5309012f785d>\u001b[0m in \u001b[0;36m<module>\u001b[0;34m\u001b[0m\n\u001b[1;32m      1\u001b[0m \u001b[0mx\u001b[0m\u001b[0;34m=\u001b[0m \u001b[0mint\u001b[0m\u001b[0;34m(\u001b[0m\u001b[0minput\u001b[0m\u001b[0;34m(\u001b[0m\u001b[0;34m\"Enter a number\"\u001b[0m\u001b[0;34m)\u001b[0m\u001b[0;34m)\u001b[0m\u001b[0;34m\u001b[0m\u001b[0;34m\u001b[0m\u001b[0m\n\u001b[1;32m      2\u001b[0m \u001b[0my\u001b[0m\u001b[0;34m=\u001b[0m \u001b[0minput\u001b[0m\u001b[0;34m(\u001b[0m\u001b[0;34m\"Enter second number\"\u001b[0m\u001b[0;34m)\u001b[0m\u001b[0;34m\u001b[0m\u001b[0;34m\u001b[0m\u001b[0m\n\u001b[0;32m----> 3\u001b[0;31m \u001b[0mprint\u001b[0m\u001b[0;34m(\u001b[0m\u001b[0;34m\"sum is\"\u001b[0m\u001b[0;34m,\u001b[0m\u001b[0mx\u001b[0m\u001b[0;34m+\u001b[0m\u001b[0my\u001b[0m\u001b[0;34m)\u001b[0m\u001b[0;34m\u001b[0m\u001b[0;34m\u001b[0m\u001b[0m\n\u001b[0m",
            "\u001b[0;31mTypeError\u001b[0m: unsupported operand type(s) for +: 'int' and 'str'"
          ]
        }
      ]
    },
    {
      "cell_type": "code",
      "source": [
        "x= int(input(\"Enter a number\"))\n",
        "y= int(input(\"Enter second number\"))\n",
        "print(\"div is=\",x/y)"
      ],
      "metadata": {
        "colab": {
          "base_uri": "https://localhost:8080/",
          "height": 235
        },
        "id": "hzusA00Yr4Uw",
        "outputId": "274623f9-afb0-421d-dd0e-21fa7ecd7ed4"
      },
      "execution_count": 3,
      "outputs": [
        {
          "name": "stdout",
          "output_type": "stream",
          "text": [
            "Enter a number6\n",
            "Enter second number0\n"
          ]
        },
        {
          "output_type": "error",
          "ename": "ZeroDivisionError",
          "evalue": "ignored",
          "traceback": [
            "\u001b[0;31m---------------------------------------------------------------------------\u001b[0m",
            "\u001b[0;31mZeroDivisionError\u001b[0m                         Traceback (most recent call last)",
            "\u001b[0;32m<ipython-input-3-6a1a1fee9db1>\u001b[0m in \u001b[0;36m<module>\u001b[0;34m\u001b[0m\n\u001b[1;32m      1\u001b[0m \u001b[0mx\u001b[0m\u001b[0;34m=\u001b[0m \u001b[0mint\u001b[0m\u001b[0;34m(\u001b[0m\u001b[0minput\u001b[0m\u001b[0;34m(\u001b[0m\u001b[0;34m\"Enter a number\"\u001b[0m\u001b[0;34m)\u001b[0m\u001b[0;34m)\u001b[0m\u001b[0;34m\u001b[0m\u001b[0;34m\u001b[0m\u001b[0m\n\u001b[1;32m      2\u001b[0m \u001b[0my\u001b[0m\u001b[0;34m=\u001b[0m \u001b[0mint\u001b[0m\u001b[0;34m(\u001b[0m\u001b[0minput\u001b[0m\u001b[0;34m(\u001b[0m\u001b[0;34m\"Enter second number\"\u001b[0m\u001b[0;34m)\u001b[0m\u001b[0;34m)\u001b[0m\u001b[0;34m\u001b[0m\u001b[0;34m\u001b[0m\u001b[0m\n\u001b[0;32m----> 3\u001b[0;31m \u001b[0mprint\u001b[0m\u001b[0;34m(\u001b[0m\u001b[0;34m\"div is=\"\u001b[0m\u001b[0;34m,\u001b[0m\u001b[0mx\u001b[0m\u001b[0;34m/\u001b[0m\u001b[0my\u001b[0m\u001b[0;34m)\u001b[0m\u001b[0;34m\u001b[0m\u001b[0;34m\u001b[0m\u001b[0m\n\u001b[0m",
            "\u001b[0;31mZeroDivisionError\u001b[0m: division by zero"
          ]
        }
      ]
    },
    {
      "cell_type": "code",
      "source": [
        "try:\n",
        "  a=5\n",
        "  b='0'\n",
        "  print(a/b)# exception raised-> execute block gets executed\n",
        "except:\n",
        "  print('Some error occured')\n",
        "\n",
        "print('out of try except blocks')"
      ],
      "metadata": {
        "colab": {
          "base_uri": "https://localhost:8080/"
        },
        "id": "nsq1e8qjsF9l",
        "outputId": "624c4601-ef95-4707-8441-bedb321789eb"
      },
      "execution_count": 4,
      "outputs": [
        {
          "output_type": "stream",
          "name": "stdout",
          "text": [
            "Some error occured\n",
            "out of try except blocks\n"
          ]
        }
      ]
    },
    {
      "cell_type": "code",
      "source": [
        "try:\n",
        "  a=5\n",
        "  b=7\n",
        "  print(a/b)# exception raised-> execute block gets executed\n",
        "except:\n",
        "  print('Some error occured')\n",
        "\n",
        "print('out of try except blocks')"
      ],
      "metadata": {
        "colab": {
          "base_uri": "https://localhost:8080/"
        },
        "id": "dvpl7qn8sK3H",
        "outputId": "74a486c7-3a30-4742-cd69-e30a2a7aaf96"
      },
      "execution_count": 5,
      "outputs": [
        {
          "output_type": "stream",
          "name": "stdout",
          "text": [
            "0.7142857142857143\n",
            "out of try except blocks\n"
          ]
        }
      ]
    },
    {
      "cell_type": "code",
      "source": [
        "try:\n",
        "  a=int(input(\"enter first value\"))\n",
        "  b=input(\"enter second value\")\n",
        "  print(a/b)\n",
        "  print(\"sum is\",a+b)\n",
        "\n",
        "except ZeroDivisionError:\n",
        "  print('Enter a number other than zero')\n",
        "except ValueError:\n",
        "  print('Enter a number only') \n",
        "except TypeError:\n",
        "  print('Enter a  correct')   \n",
        "\n",
        "print('this is out of try except block')"
      ],
      "metadata": {
        "colab": {
          "base_uri": "https://localhost:8080/"
        },
        "id": "QvU9aN9Fsag7",
        "outputId": "5c95e5de-2254-4474-bf2b-655bfcf488aa"
      },
      "execution_count": 6,
      "outputs": [
        {
          "output_type": "stream",
          "name": "stdout",
          "text": [
            "enter first value5\n",
            "enter second value7\n",
            "Enter a  correct\n",
            "this is out of try except block\n"
          ]
        }
      ]
    },
    {
      "cell_type": "code",
      "source": [
        "try:\n",
        "  a=int(input(\"enter first value\"))\n",
        "  b=input(\"enter second value\")\n",
        "  print(a/b)\n",
        "  print(\"sum is\",a+b)\n",
        "\n",
        "except ZeroDivisionError:\n",
        "  print('Enter a number other than zero')\n",
        "except ValueError:\n",
        "  print('Enter a number only') \n",
        "except TypeError:\n",
        "  print('Enter a  correct')   \n",
        "\n",
        "print('this is out of try except block')"
      ],
      "metadata": {
        "colab": {
          "base_uri": "https://localhost:8080/"
        },
        "id": "2cBW3udyshpt",
        "outputId": "9a915777-d815-4ca6-d70e-6ad803132328"
      },
      "execution_count": 7,
      "outputs": [
        {
          "output_type": "stream",
          "name": "stdout",
          "text": [
            "enter first value5\n",
            "enter second valuek\n",
            "Enter a  correct\n",
            "this is out of try except block\n"
          ]
        }
      ]
    },
    {
      "cell_type": "code",
      "source": [
        "try:\n",
        "  a=int(input(\"enter first value\"))\n",
        "  b=int(input(\"enter second value\"))\n",
        "  print(a/b)\n",
        "  print(\"sum is\",a+b)\n",
        "\n",
        "except ZeroDivisionError:\n",
        "  print('Enter a number other than zero')\n",
        "except ValueError:\n",
        "  print('Enter a number only') \n",
        "except TypeError:\n",
        "  print('Enter a  correct')   \n",
        "\n",
        "print('this is out of try except block')"
      ],
      "metadata": {
        "colab": {
          "base_uri": "https://localhost:8080/"
        },
        "id": "tjpmspECsp-u",
        "outputId": "18c1c31a-cea2-4486-a986-926adb3900a6"
      },
      "execution_count": 9,
      "outputs": [
        {
          "output_type": "stream",
          "name": "stdout",
          "text": [
            "enter first value7\n",
            "enter second value0\n",
            "Enter a number other than zero\n",
            "this is out of try except block\n"
          ]
        }
      ]
    },
    {
      "cell_type": "code",
      "source": [
        "#else, finally\n",
        "\n",
        "try:\n",
        "  a=int(input(\"enter first value\"))\n",
        "  b=int(input(\"enter second value\"))\n",
        "  c=(a/b)\n",
        "  \n",
        "\n",
        "except ZeroDivisionError:\n",
        "  print('Enter a number other than zero')\n",
        "except ValueError:\n",
        "  print('Enter a number only') \n",
        "except TypeError:\n",
        "  print('Enter a  correct')\n",
        "\n",
        "\n",
        "else:  \n",
        "  print('else block')\n",
        "  print('Division=',c)"
      ],
      "metadata": {
        "colab": {
          "base_uri": "https://localhost:8080/"
        },
        "id": "oFu5-Dfjs2bw",
        "outputId": "806a60da-19fd-4779-aa6a-7142804a5416"
      },
      "execution_count": 10,
      "outputs": [
        {
          "output_type": "stream",
          "name": "stdout",
          "text": [
            "enter first value6\n",
            "enter second value9\n",
            "else block\n",
            "Division= 0.6666666666666666\n"
          ]
        }
      ]
    },
    {
      "cell_type": "code",
      "source": [
        "try:\n",
        "  a=int(input(\"enter first value\"))\n",
        "  b=int(input(\"enter second value\"))\n",
        "  c=(a/b)\n",
        "  \n",
        "\n",
        "except ZeroDivisionError:\n",
        "  print('Enter a number other than zero')\n",
        "except ValueError:\n",
        "  print('Enter a number only') \n",
        "except TypeError:\n",
        "  print('Enter a  correct')\n",
        "\n",
        "\n",
        "else:  \n",
        "  print('else block')\n",
        "  print('Division=',c)\n",
        "\n",
        "\n",
        "finally:\n",
        "  print(\"finally block\")\n",
        "print('out of my try, except, else,finally block')"
      ],
      "metadata": {
        "colab": {
          "base_uri": "https://localhost:8080/"
        },
        "id": "UYEkFGsotFhH",
        "outputId": "c8f9352a-35e7-4efd-e028-5e8e6f5b76ea"
      },
      "execution_count": 11,
      "outputs": [
        {
          "output_type": "stream",
          "name": "stdout",
          "text": [
            "enter first value6\n",
            "enter second value5\n",
            "else block\n",
            "Division= 1.2\n",
            "finally block\n",
            "out of my try, except, else,finally block\n"
          ]
        }
      ]
    },
    {
      "cell_type": "code",
      "source": [
        "try:\n",
        "  a=int(input(\"enter first value\"))\n",
        "  b=int(input(\"enter second value\"))\n",
        "  c=(a/b)\n",
        "  \n",
        "\n",
        "except ZeroDivisionError:\n",
        "  print('Enter a number other than zero')\n",
        "except ValueError:\n",
        "  print('Enter a number only') \n",
        "except TypeError:\n",
        "  print('Enter a  correct')\n",
        "\n",
        "\n",
        "else:  \n",
        "  print('else block')\n",
        "  print('Division=',c)\n",
        "\n",
        "\n",
        "finally:\n",
        "  print(\"finally block\")\n",
        "print('out of my try, except, else,finally block')"
      ],
      "metadata": {
        "colab": {
          "base_uri": "https://localhost:8080/"
        },
        "id": "IZZIC39OtUgq",
        "outputId": "04ee40e7-55e4-4670-a59c-af7eeb512e2e"
      },
      "execution_count": 13,
      "outputs": [
        {
          "output_type": "stream",
          "name": "stdout",
          "text": [
            "enter first value0\n",
            "enter second value7\n",
            "else block\n",
            "Division= 0.0\n",
            "finally block\n",
            "out of my try, except, else,finally block\n"
          ]
        }
      ]
    },
    {
      "cell_type": "code",
      "source": [
        "try:\n",
        "  a=int(input(\"enter first value\"))\n",
        "  b=int(input(\"enter second value\"))\n",
        "  c=(a/b)\n",
        "  \n",
        "\n",
        "except ZeroDivisionError:\n",
        "  print('Enter a number other than zero')\n",
        "except ValueError:\n",
        "  print('Enter a number only') \n",
        "except TypeError:\n",
        "  print('Enter a  correct')\n",
        "\n",
        "\n",
        "#else:  \n",
        "  print('else block')\n",
        "  print('Division=',c)\n",
        "\n",
        "\n",
        "finally:\n",
        "  print(\"finally block\")\n",
        "print('out of my try, except, else,finally block')"
      ],
      "metadata": {
        "colab": {
          "base_uri": "https://localhost:8080/"
        },
        "id": "Vgrmf038tjHD",
        "outputId": "e87b2c25-3040-4f6b-d941-b22d787f6dfb"
      },
      "execution_count": 14,
      "outputs": [
        {
          "output_type": "stream",
          "name": "stdout",
          "text": [
            "enter first value4\n",
            "enter second value0\n",
            "Enter a number other than zero\n",
            "finally block\n",
            "out of my try, except, else,finally block\n"
          ]
        }
      ]
    },
    {
      "cell_type": "code",
      "source": [
        "from ast import Raise\n",
        "x=int(input())\n",
        "y=int(input())\n",
        "try:\n",
        "  if y==0: \n",
        "     raise ZeroDivisionError()  \n",
        "  z=x/y\n",
        "  print(\"Divison =\",z)\n",
        "\n",
        "except ZeroDivisionError:\n",
        "  print(\"you cannot divide by zero\")\n",
        "\n",
        "\n",
        "\n",
        "finally:\n",
        "  print(\"finally block\")"
      ],
      "metadata": {
        "colab": {
          "base_uri": "https://localhost:8080/"
        },
        "id": "FiTgION1tvtk",
        "outputId": "c387b078-313c-4df6-f390-6468e9c63bcd"
      },
      "execution_count": 16,
      "outputs": [
        {
          "output_type": "stream",
          "name": "stdout",
          "text": [
            "5\n",
            "0\n",
            "you cannot divide by zero\n",
            "finally block\n"
          ]
        }
      ]
    },
    {
      "cell_type": "code",
      "source": [
        "#Nesting of try block\n",
        "\n",
        "\n",
        "try:\n",
        "  print(\"line1\")\n",
        "  print('line2')\n",
        "  try:\n",
        "    print(\"line3\")\n",
        "    print('line4')\n",
        "  except ZeroDivisionError:\n",
        "    print(\"except\")\n",
        "  finally:\n",
        "    print('finally')\n",
        "  print('lines')\n",
        "except TypeError:\n",
        "  print(\"exception2\")\n",
        "finally:\n",
        "  print(\"finally2\")"
      ],
      "metadata": {
        "colab": {
          "base_uri": "https://localhost:8080/"
        },
        "id": "CJ8zeCvitvku",
        "outputId": "718bb5cf-f678-43a3-ef60-cb884c76ffb2"
      },
      "execution_count": 17,
      "outputs": [
        {
          "output_type": "stream",
          "name": "stdout",
          "text": [
            "line1\n",
            "line2\n",
            "line3\n",
            "line4\n",
            "finally\n",
            "lines\n",
            "finally2\n"
          ]
        }
      ]
    },
    {
      "cell_type": "code",
      "source": [
        "\"\"\"\n",
        "1.try, except, \n",
        "2. try and except should be used along\n",
        "3. We can have no of except blocks\n",
        "4.type of exception raised should be matched with the except exceptionclass Name\n",
        "5. If there is no exception raised in try block, except block is skipped\n",
        "6. if the exception raised is not handled by using except., then DEM works, the program ends\n",
        "7.finally block always runs\n",
        "8. if try block has no exception raised, then else will get executed and viceversa\n",
        "\"\"\""
      ],
      "metadata": {
        "id": "3GyJk3QEtvZv"
      },
      "execution_count": null,
      "outputs": []
    },
    {
      "cell_type": "code",
      "source": [
        "#1.create a list, try to access any element with the help of index\n",
        "# Now, try to specify the index which is not in range, check for the exception you got.\n",
        "# handle that exception using exception handling\n",
        "lst=['jia','robot',77,1,'Five']\n",
        "try:\n",
        "  lst_index=int(input(\"Enter the index no=\"))\n",
        "  print(lst[lst_index])\n",
        "except IndexError:\n",
        "  print(\"list out of range\")\n"
      ],
      "metadata": {
        "colab": {
          "base_uri": "https://localhost:8080/"
        },
        "id": "resSpJ-ptvD6",
        "outputId": "79cb2caf-ebc5-415f-e438-795c321d2c58"
      },
      "execution_count": 49,
      "outputs": [
        {
          "output_type": "stream",
          "name": "stdout",
          "text": [
            "Enter the index no=5\n",
            "list out of range\n"
          ]
        }
      ]
    },
    {
      "cell_type": "code",
      "source": [
        "# 2. let's say you have the following code written:\n",
        " #names = Input('Enter your name:')\n",
        " #check for the error/exception that you got,\n",
        "# handle the exception using exception handling\n",
        "\n",
        "try:\n",
        "  names = Input('Enter your name:')\n",
        "except NameError:\n",
        "  print(\"name 'Input' is not defined\")\n",
        "else:\n",
        "  print(names)\n",
        "\n"
      ],
      "metadata": {
        "colab": {
          "base_uri": "https://localhost:8080/"
        },
        "id": "ZtlCM7sLv0XL",
        "outputId": "72df1445-f59f-4424-b946-133f10616a31"
      },
      "execution_count": 52,
      "outputs": [
        {
          "output_type": "stream",
          "name": "stdout",
          "text": [
            "name 'Input' is not defined\n"
          ]
        }
      ]
    }
  ]
}