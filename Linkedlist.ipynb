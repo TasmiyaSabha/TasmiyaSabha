{
  "nbformat": 4,
  "nbformat_minor": 0,
  "metadata": {
    "colab": {
      "provenance": [],
      "authorship_tag": "ABX9TyO2wUaRO6q3LGZXu+zk5kR2",
      "include_colab_link": true
    },
    "kernelspec": {
      "name": "python3",
      "display_name": "Python 3"
    },
    "language_info": {
      "name": "python"
    }
  },
  "cells": [
    {
      "cell_type": "markdown",
      "metadata": {
        "id": "view-in-github",
        "colab_type": "text"
      },
      "source": [
        "<a href=\"https://colab.research.google.com/github/TasmiyaSabha/TasmiyaSabha/blob/python/Linkedlist.ipynb\" target=\"_parent\"><img src=\"https://colab.research.google.com/assets/colab-badge.svg\" alt=\"Open In Colab\"/></a>"
      ]
    },
    {
      "cell_type": "markdown",
      "source": [
        "**Assesment-2:\n",
        "Design a linked list, where every node contains\n",
        "firstname,lastname, hobby and phone number.\n",
        "Write functions to perform the following:\n",
        "1.Add new element to the list.\n",
        "2.Search and Rename an element from the list\n",
        "3.Perform deduplication-means all duplicates should be removed\n",
        "4.Reverse the list**"
      ],
      "metadata": {
        "id": "xZ-qYzN-6fJq"
      }
    },
    {
      "cell_type": "code",
      "source": [
        "class LKnode: #creating class to create nodes\n",
        "  def __init__(self,value): \n",
        "    self.value=value\n",
        "    self.next=None\n",
        "\n",
        "class lnkdlst:  # creating another class to join all the nodes in a single linked list\n",
        "  def __init__(self,head=None):\n",
        "    self.head=head\n",
        "    self.next=None\n",
        "  \n",
        "  def printList(self):\n",
        "   temp = self.head # it points to the 1st node's data and addrs\n",
        "   while(temp):\n",
        "          print(temp.value)\n",
        "          temp = temp.next \n",
        "\n",
        "  def items(self,value): #adding elements in a linked list by creating nodes\n",
        "    node1=LKnode(value)\n",
        "    node2=LKnode(value)\n",
        "    node3=LKnode(value)\n",
        "    node1.next=self.head\n",
        "    self.head=node1\n",
        "\n",
        "  #1.Adding new element at specified position \n",
        "  def add_after(self,value,x): \n",
        "    n=self.head\n",
        "    while n is not None:\n",
        "      if x==n.value:\n",
        "        break\n",
        "      n=n.next\n",
        "    if n is None:\n",
        "      print(\"node is not present\")\n",
        "    else:\n",
        "      node1=LKnode(value)\n",
        "      node1.next=n.next\n",
        "      n.next=node1\n",
        "\n",
        "   #2.Searching   and Replacing\n",
        "  def search(self,ele):\n",
        "   curr=self.head\n",
        "   while curr != None:\n",
        "      if curr.value==ele:\n",
        "        return True\n",
        "      curr=curr.next\n",
        "   return False\n",
        "   \n",
        "  def replaceElement(self, old_element, new_element):\n",
        "        curr = self.head\n",
        "        while (curr != None):\n",
        "            if curr.value== old_element:\n",
        "                curr.value = new_element\n",
        "                break\n",
        "            curr= curr.next\n",
        "  #3. Removing duplicates\n",
        "  def  rem_dup(self): \n",
        "    curr=self.head\n",
        "    nlist=[]\n",
        "    while curr:\n",
        "      if curr.value in nlist:\n",
        "        prev.next=curr.next\n",
        "      else:\n",
        "        nlist.append(curr.value)\n",
        "        prev=curr\n",
        "      curr=curr.next\n",
        "\n",
        "\n",
        "  #4. Reversing the linked list\n",
        "  def reverse(self): \n",
        "    prev=None\n",
        "    curr=self.head\n",
        "    while curr !=None:\n",
        "      next=curr.next\n",
        "      curr.next=prev #change the direction of nodes\n",
        "      prev=curr #shifting the nodes\n",
        "      curr=next\n",
        "    self.head=prev\n",
        "\n",
        "  \n",
        "\n",
        "ll1=lnkdlst()\n",
        "ll1.items('Fname:Ria     Lname:Mathur  Hobby:dancing  phno:9876543121')\n",
        "ll1.items('Fname:Tasmiya Lname:Sabha   Hobby:singing  phno:9987654323')\n",
        "ll1.items('Fname:Meera   Lname:Singh   Hobby:acting   phno:979876543')\n",
        "ll1.items('Fname:Ria     Lname:Mathur  Hobby:dancing  phno:9876543121')\n",
        "ll1.printList()\n",
        "  "
      ],
      "metadata": {
        "colab": {
          "base_uri": "https://localhost:8080/"
        },
        "id": "5gcFOnI-O3xf",
        "outputId": "d64e201f-9848-44a8-f214-4ab144a00e23"
      },
      "execution_count": 178,
      "outputs": [
        {
          "output_type": "stream",
          "name": "stdout",
          "text": [
            "Fname:Ria     Lname:Mathur  Hobby:dancing  phno:9876543121\n",
            "Fname:Meera   Lname:Singh   Hobby:acting   phno:979876543\n",
            "Fname:Tasmiya Lname:Sabha   Hobby:singing  phno:9987654323\n",
            "Fname:Ria     Lname:Mathur  Hobby:dancing  phno:9876543121\n"
          ]
        }
      ]
    },
    {
      "cell_type": "code",
      "source": [
        "ll1.search('Fname:Meera   Lname:Singh   Hobby:acting   phno:979876543')"
      ],
      "metadata": {
        "colab": {
          "base_uri": "https://localhost:8080/"
        },
        "id": "9Zd0cnmlEg2l",
        "outputId": "ef7e7665-3e9e-4fe3-8d22-f9fce304abf6"
      },
      "execution_count": 179,
      "outputs": [
        {
          "output_type": "execute_result",
          "data": {
            "text/plain": [
              "True"
            ]
          },
          "metadata": {},
          "execution_count": 179
        }
      ]
    },
    {
      "cell_type": "code",
      "source": [
        "ll1.replaceElement('Fname:Meera   Lname:Singh   Hobby:acting   phno:979876543','Fname:Hania  Lname:Khanum   Hobby:Boxing   phno:9798766643')\n",
        "ll1.printList()"
      ],
      "metadata": {
        "colab": {
          "base_uri": "https://localhost:8080/"
        },
        "id": "dPqt9wC6c_9N",
        "outputId": "ea9f5b91-3f08-4eaa-971e-e97928b46bd2"
      },
      "execution_count": 180,
      "outputs": [
        {
          "output_type": "stream",
          "name": "stdout",
          "text": [
            "Fname:Ria     Lname:Mathur  Hobby:dancing  phno:9876543121\n",
            "Fname:Hania  Lname:Khanum   Hobby:Boxing   phno:9798766643\n",
            "Fname:Tasmiya Lname:Sabha   Hobby:singing  phno:9987654323\n",
            "Fname:Ria     Lname:Mathur  Hobby:dancing  phno:9876543121\n"
          ]
        }
      ]
    },
    {
      "cell_type": "code",
      "source": [
        "ll1.rem_dup()\n",
        "ll1.printList()"
      ],
      "metadata": {
        "colab": {
          "base_uri": "https://localhost:8080/"
        },
        "id": "gV-M8qwr_4L4",
        "outputId": "725e57b4-67e3-4534-ee18-9290312cf572"
      },
      "execution_count": 166,
      "outputs": [
        {
          "output_type": "stream",
          "name": "stdout",
          "text": [
            "Fname:Ria     Lname:Mathur  Hobby:dancing  phno:9876543121\n",
            "Fname:Meera   Lname:Singh   Hobby:acting   phno:979876543\n",
            "Fname:Tasmiya Lname:Sabha   Hobby:singing  phno:9987654323\n"
          ]
        }
      ]
    },
    {
      "cell_type": "code",
      "source": [
        "ll1.reverse()\n",
        "ll1.printList()"
      ],
      "metadata": {
        "colab": {
          "base_uri": "https://localhost:8080/"
        },
        "id": "ZV4mGr2-Ffhl",
        "outputId": "c96774a3-366c-48a7-fb50-c22449845423"
      },
      "execution_count": 167,
      "outputs": [
        {
          "output_type": "stream",
          "name": "stdout",
          "text": [
            "Fname:Tasmiya Lname:Sabha   Hobby:singing  phno:9987654323\n",
            "Fname:Meera   Lname:Singh   Hobby:acting   phno:979876543\n",
            "Fname:Ria     Lname:Mathur  Hobby:dancing  phno:9876543121\n"
          ]
        }
      ]
    },
    {
      "cell_type": "code",
      "source": [
        "# Another way of creating class to create nodes\n",
        "class LKnode: \n",
        "  def __init__(self,value): \n",
        "    self.value=value\n",
        "    self.next=None\n",
        "\n",
        "class lnkdlst:  # creating another class to join all the nodes in a single linked list\n",
        "  def __init__(self,head=None):\n",
        "    self.head=head\n",
        "    self.next=None\n",
        "  \n",
        "  def printList(self):\n",
        "   temp = self.head # it points to the 1st node's data and addrs\n",
        "   while(temp):\n",
        "          print(temp.value)\n",
        "          temp = temp.next \n",
        "\n",
        "  #4. Reversing the linked list\n",
        "  def reverse(self): \n",
        "    prev=None\n",
        "    curr=self.head\n",
        "    while curr !=None:\n",
        "      next=curr.next\n",
        "      curr.next=prev #change the direction of nodes\n",
        "      prev=curr #shifting the nodes\n",
        "      curr=next\n",
        "    self.head=prev\n",
        "\n",
        "lst=lnkdlst()\n",
        "e1=LKnode('Fistname:Tasmiya')\n",
        "lst.head=e1\n",
        "lst.printList()\n",
        "e2=LKnode('lastname:Sabha')\n",
        "lst.head=e2\n",
        "lst.printList()\n",
        "e3=LKnode('Hobby:Making Collages')\n",
        "lst.head=e3\n",
        "lst.printList()\n",
        "e4=LKnode('Phno:9876543211')\n",
        "lst.head=e4\n",
        "lst.printList()\n",
        "print(\"\\n\")\n",
        "lst2=lnkdlst()\n",
        "e1=LKnode('Fistname:maya')\n",
        "lst2.head=e1\n",
        "lst2.printList()\n",
        "e2=LKnode('lastname:Thakur')\n",
        "lst2.head=e2\n",
        "lst2.printList()\n",
        "e3=LKnode('Hobby:cooking')\n",
        "lst2.head=e3\n",
        "lst2.printList()\n",
        "e4=LKnode('Phno:9976547711')\n",
        "lst2.head=e4\n",
        "\n",
        "\n",
        "lst2.printList()"
      ],
      "metadata": {
        "colab": {
          "base_uri": "https://localhost:8080/"
        },
        "id": "SfM0_pwebXjx",
        "outputId": "cf30c6a9-4b77-4c9f-f323-aca2f753a23a"
      },
      "execution_count": 173,
      "outputs": [
        {
          "output_type": "stream",
          "name": "stdout",
          "text": [
            "Fistname:Tasmiya\n",
            "lastname:Sabha\n",
            "Hobby:Making Collages\n",
            "Phno:9876543211\n",
            "\n",
            "\n",
            "Fistname:maya\n",
            "lastname:Thakur\n",
            "Hobby:cooking\n",
            "Phno:9976547711\n"
          ]
        }
      ]
    }
  ]
}