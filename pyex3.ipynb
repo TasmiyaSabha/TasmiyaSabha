{
  "nbformat": 4,
  "nbformat_minor": 0,
  "metadata": {
    "colab": {
      "provenance": [],
      "authorship_tag": "ABX9TyM25h9uuf8a07DOKxM7H44A",
      "include_colab_link": true
    },
    "kernelspec": {
      "name": "python3",
      "display_name": "Python 3"
    },
    "language_info": {
      "name": "python"
    }
  },
  "cells": [
    {
      "cell_type": "markdown",
      "metadata": {
        "id": "view-in-github",
        "colab_type": "text"
      },
      "source": [
        "<a href=\"https://colab.research.google.com/github/TasmiyaSabha/TasmiyaSabha/blob/python/pyex3.ipynb\" target=\"_parent\"><img src=\"https://colab.research.google.com/assets/colab-badge.svg\" alt=\"Open In Colab\"/></a>"
      ]
    },
    {
      "cell_type": "code",
      "execution_count": 32,
      "metadata": {
        "colab": {
          "base_uri": "https://localhost:8080/"
        },
        "id": "FsSMFN2QcAxX",
        "outputId": "9390a760-a21f-456c-ec93-56d2523f87a6"
      },
      "outputs": [
        {
          "output_type": "stream",
          "name": "stdout",
          "text": [
            "Enter first prsn name:Tia\n",
            "Enter second prsn name:Ria\n",
            "Enter third prsn name:Dia\n",
            "Tia Ria Dia\n"
          ]
        }
      ],
      "source": [
        "#1. Write a program to take three names as input from a user in the single input() function call. \n",
        "i1=input(\"Enter first prsn name:\")\n",
        "i2=input(\"Enter second prsn name:\")\n",
        "i3=input(\"Enter third prsn name:\")\n",
        "def my_function():\n",
        "\n",
        "  print(i1,i2,i3)\n",
        "\n",
        "my_function()\n",
        "\n",
        "\n"
      ]
    },
    {
      "cell_type": "code",
      "source": [
        "#2. Write a program to print the following number pattern using a loop. \n",
        "\n",
        "r=int(input(\"enter no of rows=\"))\n",
        "for i in range(r):\n",
        "    for j in range(i+1):\n",
        "      print(j+1,end=\" \")\n",
        "    print(\"\\n\")"
      ],
      "metadata": {
        "colab": {
          "base_uri": "https://localhost:8080/"
        },
        "id": "VO-PYdXtcvJL",
        "outputId": "429140c8-1cdf-4b63-9ac7-7352dc93a5f6"
      },
      "execution_count": 7,
      "outputs": [
        {
          "output_type": "stream",
          "name": "stdout",
          "text": [
            "enter no of rows=5\n",
            "1 \n",
            "\n",
            "1 2 \n",
            "\n",
            "1 2 3 \n",
            "\n",
            "1 2 3 4 \n",
            "\n",
            "1 2 3 4 5 \n",
            "\n"
          ]
        }
      ]
    },
    {
      "cell_type": "code",
      "source": [
        "#3. Write a program to accept a number from a user and calculate the sum of all numbers from 1 to a given number \n",
        "\n",
        "n=int(input(\"Enter a number=\"))\n",
        "sum=0\n",
        "for i in range(n+1):\n",
        "  sum=sum+i\n",
        "print(sum)\n"
      ],
      "metadata": {
        "colab": {
          "base_uri": "https://localhost:8080/"
        },
        "id": "PBRmf4sMdhW5",
        "outputId": "2c4de51c-f56e-415e-9ec5-ebfcd50e7584"
      },
      "execution_count": 10,
      "outputs": [
        {
          "output_type": "stream",
          "name": "stdout",
          "text": [
            "Enter a number=5\n",
            "15\n"
          ]
        }
      ]
    },
    {
      "cell_type": "code",
      "source": [
        "#4. Print list in reverse order using a loop \n",
        "\n",
        "n=10\n",
        "while n>0:\n",
        "  \n",
        "  n-=1\n",
        "  print(n)"
      ],
      "metadata": {
        "colab": {
          "base_uri": "https://localhost:8080/"
        },
        "id": "Wi-9lmaHeMgO",
        "outputId": "6e46ed92-cef8-403e-c8e2-e3c675f42b13"
      },
      "execution_count": 13,
      "outputs": [
        {
          "output_type": "stream",
          "name": "stdout",
          "text": [
            "9\n",
            "8\n",
            "7\n",
            "6\n",
            "5\n",
            "4\n",
            "3\n",
            "2\n",
            "1\n",
            "0\n"
          ]
        }
      ]
    },
    {
      "cell_type": "code",
      "source": [
        "#5. Write a program to display all prime numbers within a range\n",
        "\n",
        "n=int(input(\"Enter the lower range=\"))\n",
        "m=int(input(\"Enter the upper range=\"))\n",
        "for num in range(n,m+1):\n",
        "  if num>1:\n",
        "    for i in range(2,num):\n",
        "      if (num % i) == 0:\n",
        "        break\n",
        "      print(num)\n"
      ],
      "metadata": {
        "colab": {
          "base_uri": "https://localhost:8080/"
        },
        "id": "h3loxG6LekrB",
        "outputId": "7a61e773-bde3-486b-f13d-4cd1cf7931a6"
      },
      "execution_count": 36,
      "outputs": [
        {
          "output_type": "stream",
          "name": "stdout",
          "text": [
            "Enter the lower range=1\n",
            "Enter the upper range=10\n",
            "3\n",
            "5\n",
            "5\n",
            "5\n",
            "7\n",
            "7\n",
            "7\n",
            "7\n",
            "7\n",
            "9\n"
          ]
        }
      ]
    },
    {
      "cell_type": "code",
      "source": [
        "#6. Find the factorial of a given number without math module \n",
        "num=int(input(\"Enter the number=\"))\n",
        "factorial=1\n",
        "if num < 0:\n",
        "   print(\"factorial does not exist\")\n",
        "elif num == 0:\n",
        "   print(\"The factorial of 0 is 1\")\n",
        "else:\n",
        "   for i in range(1,num + 1):\n",
        "       factorial = factorial*i\n",
        "   print(factorial)\n"
      ],
      "metadata": {
        "colab": {
          "base_uri": "https://localhost:8080/"
        },
        "id": "KNVO2-iLgogi",
        "outputId": "843b0292-1369-4ba2-8fa0-e8dfd213eb32"
      },
      "execution_count": 24,
      "outputs": [
        {
          "output_type": "stream",
          "name": "stdout",
          "text": [
            "Enter the number=5\n",
            "120\n"
          ]
        }
      ]
    },
    {
      "cell_type": "code",
      "source": [
        "#7. Print the following pattern \n",
        "rows = int(input(\"Enter number of rows: \"))\n",
        "\n",
        "for i in range(rows):\n",
        "    for j in range(i+1):\n",
        "        print(\"* \", end=\"\")\n",
        "    print(\"\\n\")\n",
        "for i in range(rows, 0, -1):\n",
        "    for j in range(0, i):\n",
        "        print(\"* \", end=\" \")\n",
        "    \n",
        "    print(\"\\n\")"
      ],
      "metadata": {
        "colab": {
          "base_uri": "https://localhost:8080/"
        },
        "id": "g2F5imLDh2Jl",
        "outputId": "70dbc18d-fa6e-4f30-a5e7-e1bb2618caad"
      },
      "execution_count": 42,
      "outputs": [
        {
          "output_type": "stream",
          "name": "stdout",
          "text": [
            "Enter number of rows: 5\n",
            "* \n",
            "\n",
            "* * \n",
            "\n",
            "* * * \n",
            "\n",
            "* * * * \n",
            "\n",
            "* * * * * \n",
            "\n",
            "*  *  *  *  *  \n",
            "\n",
            "*  *  *  *  \n",
            "\n",
            "*  *  *  \n",
            "\n",
            "*  *  \n",
            "\n",
            "*  \n",
            "\n"
          ]
        }
      ]
    }
  ]
}