{
  "nbformat": 4,
  "nbformat_minor": 0,
  "metadata": {
    "colab": {
      "provenance": [],
      "collapsed_sections": [],
      "authorship_tag": "ABX9TyMZ8H2keRb3rjdLzqKXGAnm",
      "include_colab_link": true
    },
    "kernelspec": {
      "name": "python3",
      "display_name": "Python 3"
    },
    "language_info": {
      "name": "python"
    }
  },
  "cells": [
    {
      "cell_type": "markdown",
      "metadata": {
        "id": "view-in-github",
        "colab_type": "text"
      },
      "source": [
        "<a href=\"https://colab.research.google.com/github/TasmiyaSabha/TasmiyaSabha/blob/python/datastructures.ipynb\" target=\"_parent\"><img src=\"https://colab.research.google.com/assets/colab-badge.svg\" alt=\"Open In Colab\"/></a>"
      ]
    },
    {
      "cell_type": "markdown",
      "source": [
        "**Data Structures**"
      ],
      "metadata": {
        "id": "THFUX4fohDp7"
      }
    },
    {
      "cell_type": "code",
      "execution_count": null,
      "metadata": {
        "id": "x2bC4LUzg-zJ"
      },
      "outputs": [],
      "source": [
        "#list\n",
        "list=['tia',47,-78,0,'Book','life is beautiful' ]"
      ]
    },
    {
      "cell_type": "code",
      "source": [
        "print(list)"
      ],
      "metadata": {
        "colab": {
          "base_uri": "https://localhost:8080/"
        },
        "id": "41ut2HNjplo7",
        "outputId": "c2cddad8-e1d0-43a6-ac31-7d38b82e68c0"
      },
      "execution_count": null,
      "outputs": [
        {
          "output_type": "stream",
          "name": "stdout",
          "text": [
            "['tia', 47, -78, 0, 'Book', 'life is beautiful']\n"
          ]
        }
      ]
    },
    {
      "cell_type": "code",
      "source": [
        "print(len(list))"
      ],
      "metadata": {
        "colab": {
          "base_uri": "https://localhost:8080/"
        },
        "id": "6lIpkqmupvgt",
        "outputId": "5be19c45-945a-4e2d-cc1b-95848199b3cb"
      },
      "execution_count": null,
      "outputs": [
        {
          "output_type": "stream",
          "name": "stdout",
          "text": [
            "6\n"
          ]
        }
      ]
    },
    {
      "cell_type": "code",
      "source": [
        "print(list[-2])"
      ],
      "metadata": {
        "colab": {
          "base_uri": "https://localhost:8080/"
        },
        "id": "u2sMLk9npznb",
        "outputId": "7e8582c3-661a-4d53-b4f7-d4680c31e4fb"
      },
      "execution_count": null,
      "outputs": [
        {
          "output_type": "stream",
          "name": "stdout",
          "text": [
            "Book\n"
          ]
        }
      ]
    },
    {
      "cell_type": "code",
      "source": [
        "print(type(list))"
      ],
      "metadata": {
        "colab": {
          "base_uri": "https://localhost:8080/"
        },
        "id": "Tun-v5RLqCMF",
        "outputId": "d67e07e6-e30e-40f8-c4dd-556c61c94289"
      },
      "execution_count": null,
      "outputs": [
        {
          "output_type": "stream",
          "name": "stdout",
          "text": [
            "<class 'list'>\n"
          ]
        }
      ]
    },
    {
      "cell_type": "code",
      "source": [
        "l=[] #empty list"
      ],
      "metadata": {
        "id": "OeZgBNnIqXGE"
      },
      "execution_count": null,
      "outputs": []
    },
    {
      "cell_type": "code",
      "source": [
        "listt = [\"Book\",\"life is beautiful\",\"k\"]\n",
        "print(listt[1:2])"
      ],
      "metadata": {
        "colab": {
          "base_uri": "https://localhost:8080/"
        },
        "id": "IkezEvgMqdSi",
        "outputId": "aee0ae14-7f90-4c8d-99e9-f4d5fed4fd8e"
      },
      "execution_count": null,
      "outputs": [
        {
          "output_type": "stream",
          "name": "stdout",
          "text": [
            "['life is beautiful']\n"
          ]
        }
      ]
    },
    {
      "cell_type": "code",
      "source": [
        "listt = [\"Book\",\"life is beautiful\",\"k\"]\n",
        "if 'Book' in listt:\n",
        "  print(\"yes,its present\")\n",
        "else:\n",
        "  print(\"not there\")"
      ],
      "metadata": {
        "colab": {
          "base_uri": "https://localhost:8080/"
        },
        "id": "5vKlACX4r9OB",
        "outputId": "4e81a0fc-56d9-41d7-c891-828da3bc0e24"
      },
      "execution_count": null,
      "outputs": [
        {
          "output_type": "stream",
          "name": "stdout",
          "text": [
            "yes,its present\n"
          ]
        }
      ]
    },
    {
      "cell_type": "code",
      "source": [
        "listt = [\"Book\",\"life is beautiful\",\"k\"]\n",
        "listt[1]=\"cook\"\n",
        "listt"
      ],
      "metadata": {
        "colab": {
          "base_uri": "https://localhost:8080/"
        },
        "id": "80I1QxRLrwAR",
        "outputId": "6bfa7b6a-25cc-4fa4-8bac-edf489936940"
      },
      "execution_count": null,
      "outputs": [
        {
          "output_type": "execute_result",
          "data": {
            "text/plain": [
              "['Book', 'cook', 'k']"
            ]
          },
          "metadata": {},
          "execution_count": 22
        }
      ]
    },
    {
      "cell_type": "code",
      "source": [
        "listt = [\"Book\",\"life is beautiful\",\"k\",'cake']\n",
        "listt[1:3]=['look','shook']\n",
        "listt"
      ],
      "metadata": {
        "colab": {
          "base_uri": "https://localhost:8080/"
        },
        "id": "6E8TesxVskJh",
        "outputId": "a2c7b1d9-7d15-4490-8c76-7c69202659d5"
      },
      "execution_count": null,
      "outputs": [
        {
          "output_type": "execute_result",
          "data": {
            "text/plain": [
              "['Book', 'look', 'shook', 'cake']"
            ]
          },
          "metadata": {},
          "execution_count": 25
        }
      ]
    },
    {
      "cell_type": "code",
      "source": [
        "listt = [\"Book\",\"life is beautiful\",\"k\"]\n",
        "listt.insert(1,'look')\n",
        "listt"
      ],
      "metadata": {
        "colab": {
          "base_uri": "https://localhost:8080/"
        },
        "id": "mKkiJMsDs5x3",
        "outputId": "8ad5d3dd-1ce4-437b-c5eb-796961e58a31"
      },
      "execution_count": null,
      "outputs": [
        {
          "output_type": "execute_result",
          "data": {
            "text/plain": [
              "['Book', 'look', 'life is beautiful', 'k']"
            ]
          },
          "metadata": {},
          "execution_count": 26
        }
      ]
    },
    {
      "cell_type": "code",
      "source": [
        "listt = [\"Book\",\"life is beautiful\",\"k\"]\n",
        "listt.append('took')\n",
        "listt"
      ],
      "metadata": {
        "colab": {
          "base_uri": "https://localhost:8080/"
        },
        "id": "GYdZsX0EtNF6",
        "outputId": "2b22be7a-9b29-47f0-a0bb-f027f8819138"
      },
      "execution_count": null,
      "outputs": [
        {
          "output_type": "execute_result",
          "data": {
            "text/plain": [
              "['Book', 'life is beautiful', 'k', 'took']"
            ]
          },
          "metadata": {},
          "execution_count": 28
        }
      ]
    },
    {
      "cell_type": "code",
      "source": [
        "list1 = [\"Book\",\"life is beautiful\",\"k\"]\n",
        "list2 = [\"Bear\",54,\"kite\",33]\n",
        "list1.extend(list2)\n",
        "list1"
      ],
      "metadata": {
        "colab": {
          "base_uri": "https://localhost:8080/"
        },
        "id": "cNDnwI9VtaFs",
        "outputId": "b30c142c-1e87-4305-9c47-8e2a40c05dba"
      },
      "execution_count": null,
      "outputs": [
        {
          "output_type": "execute_result",
          "data": {
            "text/plain": [
              "['Book', 'life is beautiful', 'k', 'Bear', 54, 'kite', 33]"
            ]
          },
          "metadata": {},
          "execution_count": 34
        }
      ]
    },
    {
      "cell_type": "code",
      "source": [
        "list1 = [\"Book\",\"life is beautiful\",\"k\"]\n",
        "list2 = [\"Bear\",54,\"kite\",33]\n",
        "list3=list1+list2\n",
        "list3\n"
      ],
      "metadata": {
        "colab": {
          "base_uri": "https://localhost:8080/"
        },
        "id": "Qf0O0-QRxNZo",
        "outputId": "5dc351c2-31c6-42b4-9850-b06c3bc0123f"
      },
      "execution_count": null,
      "outputs": [
        {
          "output_type": "execute_result",
          "data": {
            "text/plain": [
              "['Book', 'life is beautiful', 'k', 'Bear', 54, 'kite', 33]"
            ]
          },
          "metadata": {},
          "execution_count": 52
        }
      ]
    },
    {
      "cell_type": "code",
      "source": [
        "list2 = [\"Bear\",54,\"kite\",33]\n",
        "list2.remove(54)\n",
        "list2"
      ],
      "metadata": {
        "colab": {
          "base_uri": "https://localhost:8080/"
        },
        "id": "fGLpkZPSuIBz",
        "outputId": "284f332f-9b7a-414e-ca35-8db020a9a06c"
      },
      "execution_count": null,
      "outputs": [
        {
          "output_type": "execute_result",
          "data": {
            "text/plain": [
              "['Bear', 'kite', 33]"
            ]
          },
          "metadata": {},
          "execution_count": 35
        }
      ]
    },
    {
      "cell_type": "code",
      "source": [
        "list2 = [\"Bear\",'t',\"kite\"]\n",
        "list2.sort()\n",
        "list2"
      ],
      "metadata": {
        "colab": {
          "base_uri": "https://localhost:8080/"
        },
        "id": "TQGjk4SkxfIR",
        "outputId": "7d3f6127-1d9b-4cfe-8be6-89853485c3a2"
      },
      "execution_count": null,
      "outputs": [
        {
          "output_type": "execute_result",
          "data": {
            "text/plain": [
              "['Bear', 'kite', 't']"
            ]
          },
          "metadata": {},
          "execution_count": 55
        }
      ]
    },
    {
      "cell_type": "code",
      "source": [
        "list2 = [\"Bear\",54,\"kite\",33]\n",
        "list2.pop(0)\n",
        "list2"
      ],
      "metadata": {
        "colab": {
          "base_uri": "https://localhost:8080/"
        },
        "id": "1zVkT-ZSuU7o",
        "outputId": "eae8e3e7-78d1-4293-a60e-9cfd08a189a1"
      },
      "execution_count": null,
      "outputs": [
        {
          "output_type": "execute_result",
          "data": {
            "text/plain": [
              "[54, 'kite', 33]"
            ]
          },
          "metadata": {},
          "execution_count": 41
        }
      ]
    },
    {
      "cell_type": "code",
      "source": [
        "list2 = [\"Bear\",54,\"kite\",33]\n",
        "#del list2\n",
        "list2.clear()"
      ],
      "metadata": {
        "id": "lQpTdUdbuwz6"
      },
      "execution_count": null,
      "outputs": []
    },
    {
      "cell_type": "code",
      "source": [
        "list2 = [\"Bear\",54,\"kite\",33]\n",
        "for i in list2:\n",
        "  print(i)"
      ],
      "metadata": {
        "colab": {
          "base_uri": "https://localhost:8080/"
        },
        "id": "HE21mftfvHkM",
        "outputId": "ae669928-5bd4-404c-a4d4-f80f8d30766c"
      },
      "execution_count": null,
      "outputs": [
        {
          "output_type": "stream",
          "name": "stdout",
          "text": [
            "Bear\n",
            "54\n",
            "kite\n",
            "33\n"
          ]
        }
      ]
    },
    {
      "cell_type": "code",
      "source": [
        "list2 = [0,\"Bear\",54,\"kite\",33]\n",
        "for i in range(len(list2)):\n",
        "  print(list2[i])\n",
        "\n"
      ],
      "metadata": {
        "colab": {
          "base_uri": "https://localhost:8080/"
        },
        "id": "EDsbBwh2vaTc",
        "outputId": "10381158-e5b9-4fcd-e850-b208b58dd762"
      },
      "execution_count": null,
      "outputs": [
        {
          "output_type": "stream",
          "name": "stdout",
          "text": [
            "0\n",
            "Bear\n",
            "54\n",
            "kite\n",
            "33\n"
          ]
        }
      ]
    },
    {
      "cell_type": "code",
      "source": [
        "\n",
        "list2 = [\"Bear\",\"kit\",'elle']\n",
        "lst=[]\n",
        "for i in list2:\n",
        "  if 'e' in i:\n",
        "    lst.append(i)\n",
        "print(lst)"
      ],
      "metadata": {
        "colab": {
          "base_uri": "https://localhost:8080/"
        },
        "id": "LWUY9QSTwAQG",
        "outputId": "bd070c67-e56d-4d7b-dc09-32ccddfa49b4"
      },
      "execution_count": null,
      "outputs": [
        {
          "output_type": "stream",
          "name": "stdout",
          "text": [
            "['Bear', 'elle']\n"
          ]
        }
      ]
    },
    {
      "cell_type": "code",
      "source": [
        "list2 = [0,54,33]\n",
        "sum(list2)"
      ],
      "metadata": {
        "colab": {
          "base_uri": "https://localhost:8080/"
        },
        "id": "8VXh0HGiw02G",
        "outputId": "457c702d-716f-4d92-d3dd-c20a852a4ce9"
      },
      "execution_count": null,
      "outputs": [
        {
          "output_type": "execute_result",
          "data": {
            "text/plain": [
              "87"
            ]
          },
          "metadata": {},
          "execution_count": 58
        }
      ]
    },
    {
      "cell_type": "code",
      "source": [
        "list4 = [\"Bear\",\"life is beautiful\",\"k\"]\n",
        "list4.sort(reverse=True)\n",
        "list4\n"
      ],
      "metadata": {
        "colab": {
          "base_uri": "https://localhost:8080/"
        },
        "id": "6vn65Mn7yOu4",
        "outputId": "3116ac6d-fb8f-4bcc-f391-107f5ef31b79"
      },
      "execution_count": null,
      "outputs": [
        {
          "output_type": "execute_result",
          "data": {
            "text/plain": [
              "['life is beautiful', 'k', 'Bear']"
            ]
          },
          "metadata": {},
          "execution_count": 61
        }
      ]
    },
    {
      "cell_type": "code",
      "source": [
        "list4 = [\"Bear\",\"life is beautiful\",\"k\"]\n",
        "list4.reverse()\n",
        "list4\n"
      ],
      "metadata": {
        "colab": {
          "base_uri": "https://localhost:8080/"
        },
        "id": "Eif1EozczluB",
        "outputId": "5dcf5130-378d-4ee3-c6dd-461bce4d5282"
      },
      "execution_count": null,
      "outputs": [
        {
          "output_type": "execute_result",
          "data": {
            "text/plain": [
              "['k', 'life is beautiful', 'Bear']"
            ]
          },
          "metadata": {},
          "execution_count": 62
        }
      ]
    },
    {
      "cell_type": "code",
      "source": [
        "list4 = [\"Bear\",\"life is beautiful\",\"k\"]\n",
        "list5=list4.copy()\n",
        "list5"
      ],
      "metadata": {
        "colab": {
          "base_uri": "https://localhost:8080/"
        },
        "id": "SON861yjzuCh",
        "outputId": "d2ddda26-4bea-4254-c3e5-985476750ec0"
      },
      "execution_count": null,
      "outputs": [
        {
          "output_type": "execute_result",
          "data": {
            "text/plain": [
              "['Bear', 'life is beautiful', 'k']"
            ]
          },
          "metadata": {},
          "execution_count": 63
        }
      ]
    },
    {
      "cell_type": "code",
      "source": [
        "list2 = [\"Bear\",54,\"kite\",54,33]\n",
        "x=list2.count(54)\n",
        "x"
      ],
      "metadata": {
        "colab": {
          "base_uri": "https://localhost:8080/"
        },
        "id": "dm9KFwGS0C-l",
        "outputId": "331a369f-1f95-41d7-b96b-ca5e20f71bdf"
      },
      "execution_count": null,
      "outputs": [
        {
          "output_type": "execute_result",
          "data": {
            "text/plain": [
              "2"
            ]
          },
          "metadata": {},
          "execution_count": 66
        }
      ]
    },
    {
      "cell_type": "code",
      "source": [
        "list2 = [\"Bear\",54,\"kite\",54,33]\n",
        "x=list2.index(54)\n",
        "x"
      ],
      "metadata": {
        "colab": {
          "base_uri": "https://localhost:8080/"
        },
        "id": "o-MlBLgX0XVq",
        "outputId": "dd0259d6-e143-440d-fb05-fa06f76813ed"
      },
      "execution_count": null,
      "outputs": [
        {
          "output_type": "execute_result",
          "data": {
            "text/plain": [
              "1"
            ]
          },
          "metadata": {},
          "execution_count": 67
        }
      ]
    },
    {
      "cell_type": "markdown",
      "source": [
        "**Tuple**"
      ],
      "metadata": {
        "id": "IapNqxUk0h_I"
      }
    },
    {
      "cell_type": "code",
      "source": [
        "#tuple\n",
        "tup=(\"Ria\",\"can\",0,156,True)\n",
        "tup"
      ],
      "metadata": {
        "colab": {
          "base_uri": "https://localhost:8080/"
        },
        "id": "lcwg5b360l9z",
        "outputId": "6963e839-8306-47c8-d9cc-f56de40401f9"
      },
      "execution_count": null,
      "outputs": [
        {
          "output_type": "execute_result",
          "data": {
            "text/plain": [
              "('Ria', 'can', 0, 156, True)"
            ]
          },
          "metadata": {},
          "execution_count": 68
        }
      ]
    },
    {
      "cell_type": "code",
      "source": [
        "tup=(\"Ria\",\"can\",0,156,True)\n",
        "len(tup)"
      ],
      "metadata": {
        "colab": {
          "base_uri": "https://localhost:8080/"
        },
        "id": "2v9MZRbS05bj",
        "outputId": "407bd5c7-d7ae-4477-8bb3-964c423329f8"
      },
      "execution_count": null,
      "outputs": [
        {
          "output_type": "execute_result",
          "data": {
            "text/plain": [
              "5"
            ]
          },
          "metadata": {},
          "execution_count": 69
        }
      ]
    },
    {
      "cell_type": "code",
      "source": [
        "tup=(\"Ria\",\"can\",0,156,True)\n",
        "type(tup)"
      ],
      "metadata": {
        "colab": {
          "base_uri": "https://localhost:8080/"
        },
        "id": "JTxHS4zk1GP7",
        "outputId": "079db938-bc66-487d-de96-8156d2a84482"
      },
      "execution_count": null,
      "outputs": [
        {
          "output_type": "execute_result",
          "data": {
            "text/plain": [
              "tuple"
            ]
          },
          "metadata": {},
          "execution_count": 70
        }
      ]
    },
    {
      "cell_type": "code",
      "source": [
        "tup=(\"Ria\",\"can\",0,156,True)\n",
        "print(tup[0])"
      ],
      "metadata": {
        "colab": {
          "base_uri": "https://localhost:8080/"
        },
        "id": "gkEEcXKp1Psm",
        "outputId": "c2fc8f3b-ccad-4a75-c9e5-eb0c501a22bc"
      },
      "execution_count": null,
      "outputs": [
        {
          "output_type": "stream",
          "name": "stdout",
          "text": [
            "Ria\n"
          ]
        }
      ]
    },
    {
      "cell_type": "code",
      "source": [
        "tup=(\"Ria\",\"can\",0,156,True)\n",
        "if 'Ri' in tup:\n",
        "  print(\"yes,its present\")\n",
        "else:\n",
        "  print(\"not there\")"
      ],
      "metadata": {
        "colab": {
          "base_uri": "https://localhost:8080/"
        },
        "id": "jpn0EL9D1d0T",
        "outputId": "332c123d-a74f-46cf-9d16-6c26e9d02ca0"
      },
      "execution_count": null,
      "outputs": [
        {
          "output_type": "stream",
          "name": "stdout",
          "text": [
            "not there\n"
          ]
        }
      ]
    },
    {
      "cell_type": "code",
      "source": [
        "tup=(\"Ria\",\"can\",0,156,True)\n",
        "del tup\n"
      ],
      "metadata": {
        "id": "O2q2__H11_FC"
      },
      "execution_count": 83,
      "outputs": []
    },
    {
      "cell_type": "code",
      "source": [
        "tup=(\"Ria\",\"can\",156)#unpacking an tuple\n",
        "(green,yel,pink)=tup\n",
        "print(green)"
      ],
      "metadata": {
        "colab": {
          "base_uri": "https://localhost:8080/"
        },
        "id": "aT-iK58O8yJn",
        "outputId": "b5dd3093-ff44-466b-bcc5-99c4bcc96a4c"
      },
      "execution_count": 84,
      "outputs": [
        {
          "output_type": "stream",
          "name": "stdout",
          "text": [
            "Ria\n"
          ]
        }
      ]
    },
    {
      "cell_type": "code",
      "source": [
        "tup=(\"Ria\",\"can\",156,99)#unpacking an tuple\n",
        "(green,*yel,pink)=tup\n",
        "print(green)\n",
        "print(yel)\n",
        "print(pink)"
      ],
      "metadata": {
        "colab": {
          "base_uri": "https://localhost:8080/"
        },
        "id": "SOKEWl1i9ERU",
        "outputId": "3e281072-eb44-497e-fa5f-ca56eacc9e0c"
      },
      "execution_count": 87,
      "outputs": [
        {
          "output_type": "stream",
          "name": "stdout",
          "text": [
            "Ria\n",
            "['can', 156]\n",
            "99\n"
          ]
        }
      ]
    },
    {
      "cell_type": "code",
      "source": [
        "\n",
        "tup=(\"Ria\",\"can\",156,99)\n",
        "for i in tup:\n",
        "  print(i)"
      ],
      "metadata": {
        "colab": {
          "base_uri": "https://localhost:8080/"
        },
        "id": "PrEx1cKI9eiN",
        "outputId": "6cb08744-b143-41ce-800e-b9562bec1e82"
      },
      "execution_count": 89,
      "outputs": [
        {
          "output_type": "stream",
          "name": "stdout",
          "text": [
            "Ria\n",
            "can\n",
            "156\n",
            "99\n"
          ]
        }
      ]
    },
    {
      "cell_type": "code",
      "source": [
        "tup1 = (\"Book\",\"life is beautiful\",\"k\")\n",
        "tup2 = (\"Bear\",54,\"kite\",33)\n",
        "tup3=tup1+tup2\n",
        "tup3"
      ],
      "metadata": {
        "colab": {
          "base_uri": "https://localhost:8080/"
        },
        "id": "ohFqF2EP95Un",
        "outputId": "5a49233c-5b3b-4d8b-d75b-dcbc6096e243"
      },
      "execution_count": 90,
      "outputs": [
        {
          "output_type": "execute_result",
          "data": {
            "text/plain": [
              "('Book', 'life is beautiful', 'k', 'Bear', 54, 'kite', 33)"
            ]
          },
          "metadata": {},
          "execution_count": 90
        }
      ]
    },
    {
      "cell_type": "code",
      "source": [
        "tup1 = (\"Book\",\"life is beautiful\",\"k\")\n",
        "tup2 = tup1*2\n",
        "tup2"
      ],
      "metadata": {
        "colab": {
          "base_uri": "https://localhost:8080/"
        },
        "id": "K9EhIULl-Sfj",
        "outputId": "ada31878-1bd1-4bef-bb01-26765a31a4f7"
      },
      "execution_count": 91,
      "outputs": [
        {
          "output_type": "execute_result",
          "data": {
            "text/plain": [
              "('Book', 'life is beautiful', 'k', 'Book', 'life is beautiful', 'k')"
            ]
          },
          "metadata": {},
          "execution_count": 91
        }
      ]
    },
    {
      "cell_type": "code",
      "source": [
        "tup1 = (\"Book\",\"life is beautiful\",\"k\",'k')\n",
        "tup1.count('k')\n"
      ],
      "metadata": {
        "colab": {
          "base_uri": "https://localhost:8080/"
        },
        "id": "r64H3ujc-eVJ",
        "outputId": "606c4284-e6fc-4dc4-e780-f709fbc520cf"
      },
      "execution_count": 94,
      "outputs": [
        {
          "output_type": "execute_result",
          "data": {
            "text/plain": [
              "2"
            ]
          },
          "metadata": {},
          "execution_count": 94
        }
      ]
    },
    {
      "cell_type": "code",
      "source": [
        "tup1 = (\"Book\",4,\"life is beautiful\",\"k\")\n",
        "t=tup1.index(4)\n",
        "t"
      ],
      "metadata": {
        "colab": {
          "base_uri": "https://localhost:8080/"
        },
        "id": "RlTBlaag-xkb",
        "outputId": "fc2cf42c-726f-4911-878c-146cd0cca714"
      },
      "execution_count": 100,
      "outputs": [
        {
          "output_type": "execute_result",
          "data": {
            "text/plain": [
              "1"
            ]
          },
          "metadata": {},
          "execution_count": 100
        }
      ]
    },
    {
      "cell_type": "markdown",
      "source": [
        "**Sets**"
      ],
      "metadata": {
        "id": "Ll7ZOiUu_Udk"
      }
    },
    {
      "cell_type": "code",
      "source": [
        "#set\n",
        "set={'savage','Mango',45,'pen'}\n",
        "set"
      ],
      "metadata": {
        "colab": {
          "base_uri": "https://localhost:8080/"
        },
        "id": "sg7wYFnf_Xag",
        "outputId": "4f756eea-bea6-45a6-9eff-d372394e59c1"
      },
      "execution_count": 101,
      "outputs": [
        {
          "output_type": "execute_result",
          "data": {
            "text/plain": [
              "{45, 'Mango', 'pen', 'savage'}"
            ]
          },
          "metadata": {},
          "execution_count": 101
        }
      ]
    },
    {
      "cell_type": "code",
      "source": [
        "set={'savage','Mango',45,'pen'}\n",
        "len(set)"
      ],
      "metadata": {
        "colab": {
          "base_uri": "https://localhost:8080/"
        },
        "id": "bFYLCuA5_8Uj",
        "outputId": "366981eb-c215-4732-d10b-963ce8cfed9f"
      },
      "execution_count": 102,
      "outputs": [
        {
          "output_type": "execute_result",
          "data": {
            "text/plain": [
              "4"
            ]
          },
          "metadata": {},
          "execution_count": 102
        }
      ]
    },
    {
      "cell_type": "code",
      "source": [
        "set={'savage','Mango',45,'pen'}\n",
        "print('Mango' in set)"
      ],
      "metadata": {
        "colab": {
          "base_uri": "https://localhost:8080/"
        },
        "id": "UhgPJqCIAFC1",
        "outputId": "65e62983-4526-4f45-e1f6-d815b44220fd"
      },
      "execution_count": 103,
      "outputs": [
        {
          "output_type": "stream",
          "name": "stdout",
          "text": [
            "True\n"
          ]
        }
      ]
    },
    {
      "cell_type": "code",
      "source": [
        "set={'savage','Mango',45,'pen'}\n",
        "set.add('bun')\n",
        "set"
      ],
      "metadata": {
        "colab": {
          "base_uri": "https://localhost:8080/"
        },
        "id": "g6_cfTlDAN30",
        "outputId": "ad63fd2f-cae9-43a3-9bb4-3da23eb017cd"
      },
      "execution_count": 104,
      "outputs": [
        {
          "output_type": "execute_result",
          "data": {
            "text/plain": [
              "{45, 'Mango', 'bun', 'pen', 'savage'}"
            ]
          },
          "metadata": {},
          "execution_count": 104
        }
      ]
    },
    {
      "cell_type": "code",
      "source": [
        "set={'savage','Mango',45,'pen'}\n",
        "set1={'cake'}\n",
        "set.update(set1)\n",
        "set"
      ],
      "metadata": {
        "colab": {
          "base_uri": "https://localhost:8080/"
        },
        "id": "wFlBnc0nAVda",
        "outputId": "526ab2a0-440e-4483-cd47-24066262db8c"
      },
      "execution_count": 105,
      "outputs": [
        {
          "output_type": "execute_result",
          "data": {
            "text/plain": [
              "{45, 'Mango', 'cake', 'pen', 'savage'}"
            ]
          },
          "metadata": {},
          "execution_count": 105
        }
      ]
    },
    {
      "cell_type": "code",
      "source": [
        "set={'savage','Mango',45,'pen'}\n",
        "set.discard('cake')\n",
        "set"
      ],
      "metadata": {
        "colab": {
          "base_uri": "https://localhost:8080/"
        },
        "id": "3p0NvV-0AjYi",
        "outputId": "1bc01d87-b502-4f93-e305-77b696e65f5e"
      },
      "execution_count": 108,
      "outputs": [
        {
          "output_type": "execute_result",
          "data": {
            "text/plain": [
              "{45, 'Mango', 'pen', 'savage'}"
            ]
          },
          "metadata": {},
          "execution_count": 107
        },
        {
          "output_type": "execute_result",
          "data": {
            "text/plain": [
              "{45, 'Mango', 'pen', 'savage'}"
            ]
          },
          "metadata": {},
          "execution_count": 108
        }
      ]
    },
    {
      "cell_type": "code",
      "source": [
        "set={'savage','Mango',45,'pen'}\n",
        "set.pop()\n",
        "set"
      ],
      "metadata": {
        "colab": {
          "base_uri": "https://localhost:8080/"
        },
        "id": "lO_75sL9BAWN",
        "outputId": "ea9dfc9b-af5f-4b7b-8af0-1c9e1cc09311"
      },
      "execution_count": 112,
      "outputs": [
        {
          "output_type": "execute_result",
          "data": {
            "text/plain": [
              "{45, 'pen', 'savage'}"
            ]
          },
          "metadata": {},
          "execution_count": 112
        }
      ]
    },
    {
      "cell_type": "code",
      "source": [
        "set={'savage','Mango',45,'pen'}\n",
        "for i in set:\n",
        "  print(i)"
      ],
      "metadata": {
        "colab": {
          "base_uri": "https://localhost:8080/"
        },
        "id": "l0wLurkCBSiS",
        "outputId": "f3c0c245-1250-47a6-8ff2-f35a170ae99e"
      },
      "execution_count": 113,
      "outputs": [
        {
          "output_type": "stream",
          "name": "stdout",
          "text": [
            "Mango\n",
            "savage\n",
            "pen\n",
            "45\n"
          ]
        }
      ]
    },
    {
      "cell_type": "code",
      "source": [
        "set1={'savage','Mango',45,'pen'}\n",
        "set2={'cake','monkey'}\n",
        "set3=set1.union(set2)\n",
        "set3"
      ],
      "metadata": {
        "colab": {
          "base_uri": "https://localhost:8080/"
        },
        "id": "wQSL2KBlBc-2",
        "outputId": "523f326e-1c43-41fe-84a5-9f141dde8d7e"
      },
      "execution_count": 114,
      "outputs": [
        {
          "output_type": "execute_result",
          "data": {
            "text/plain": [
              "{45, 'Mango', 'cake', 'monkey', 'pen', 'savage'}"
            ]
          },
          "metadata": {},
          "execution_count": 114
        }
      ]
    },
    {
      "cell_type": "code",
      "source": [
        "set1={'savage','Mango','45','pen'}\n",
        "set2={'cake','monkey','45','Mango'}\n",
        "set3=set1.intersection(set2)\n",
        "print(set3)"
      ],
      "metadata": {
        "colab": {
          "base_uri": "https://localhost:8080/"
        },
        "id": "gBFCf5BRBwK5",
        "outputId": "7a2deca3-cfa9-41c0-ef68-b4669e659b48"
      },
      "execution_count": 121,
      "outputs": [
        {
          "output_type": "stream",
          "name": "stdout",
          "text": [
            "{'45', 'Mango'}\n"
          ]
        }
      ]
    },
    {
      "cell_type": "code",
      "source": [
        "set1={'savage','Mango','45','pen'}\n",
        "set2={'cake','monkey','45','Mango'}\n",
        "set3=set1.symmetric_difference_update(set2)\n",
        "print(set3)"
      ],
      "metadata": {
        "colab": {
          "base_uri": "https://localhost:8080/"
        },
        "id": "1MCp1M5PCXq7",
        "outputId": "24183d82-997a-4c48-d3e9-bf4077615d41"
      },
      "execution_count": 122,
      "outputs": [
        {
          "output_type": "stream",
          "name": "stdout",
          "text": [
            "None\n"
          ]
        }
      ]
    },
    {
      "cell_type": "code",
      "source": [
        "set1={'savage','Mango','45','pen'}\n",
        "set2={'cake','monkey','45','Mango'}\n",
        "set3=set1.isdisjoint(set2)\n",
        "print(set3)"
      ],
      "metadata": {
        "colab": {
          "base_uri": "https://localhost:8080/"
        },
        "id": "v4JsWeoTCieQ",
        "outputId": "efa73b1b-2d30-4fc5-bc8d-2e3780833218"
      },
      "execution_count": 123,
      "outputs": [
        {
          "output_type": "stream",
          "name": "stdout",
          "text": [
            "False\n"
          ]
        }
      ]
    },
    {
      "cell_type": "code",
      "source": [
        "set1={'savage','Mango','45','pen'}\n",
        "set2={'cake','monkey','45','Mango'}\n",
        "set3=set1.issubset(set2)\n",
        "print(set3)"
      ],
      "metadata": {
        "colab": {
          "base_uri": "https://localhost:8080/"
        },
        "id": "ox6yzaxeCqT4",
        "outputId": "249743c2-63c6-45a5-9c35-08b7cb466cbd"
      },
      "execution_count": 124,
      "outputs": [
        {
          "output_type": "stream",
          "name": "stdout",
          "text": [
            "False\n"
          ]
        }
      ]
    },
    {
      "cell_type": "markdown",
      "source": [
        "**Dictionaries**"
      ],
      "metadata": {
        "id": "BWzS8uwWCxLx"
      }
    },
    {
      "cell_type": "code",
      "source": [
        "dict={1:'a','date':'cat',99:'bag'}\n",
        "dict"
      ],
      "metadata": {
        "colab": {
          "base_uri": "https://localhost:8080/"
        },
        "id": "_4zZwErKCv0i",
        "outputId": "631f4d5b-db8a-49ca-d196-204387e1ff27"
      },
      "execution_count": 127,
      "outputs": [
        {
          "output_type": "execute_result",
          "data": {
            "text/plain": [
              "{1: 'a', 'date': 'cat', 99: 'bag'}"
            ]
          },
          "metadata": {},
          "execution_count": 127
        }
      ]
    },
    {
      "cell_type": "code",
      "source": [
        "dict={1:'a','date':'cat',99:'bag'}\n",
        "dict['date']"
      ],
      "metadata": {
        "colab": {
          "base_uri": "https://localhost:8080/",
          "height": 35
        },
        "id": "GiLqFmUwDPbw",
        "outputId": "9388173e-adee-43c0-88fb-ef83cec291e2"
      },
      "execution_count": 128,
      "outputs": [
        {
          "output_type": "execute_result",
          "data": {
            "text/plain": [
              "'cat'"
            ],
            "application/vnd.google.colaboratory.intrinsic+json": {
              "type": "string"
            }
          },
          "metadata": {},
          "execution_count": 128
        }
      ]
    },
    {
      "cell_type": "code",
      "source": [
        "dict={1:'a','date':'cat',99:'bag'}\n",
        "len(dict)"
      ],
      "metadata": {
        "colab": {
          "base_uri": "https://localhost:8080/"
        },
        "id": "KhQ2JDr3DWsw",
        "outputId": "f7768f94-86ec-46d6-e7cd-4dee91a7255a"
      },
      "execution_count": 129,
      "outputs": [
        {
          "output_type": "execute_result",
          "data": {
            "text/plain": [
              "3"
            ]
          },
          "metadata": {},
          "execution_count": 129
        }
      ]
    },
    {
      "cell_type": "code",
      "source": [
        "dict={1:'a','date':'cat',99:'bag'}\n",
        "dict.get(1)"
      ],
      "metadata": {
        "colab": {
          "base_uri": "https://localhost:8080/",
          "height": 35
        },
        "id": "pCc4XjwUDda6",
        "outputId": "e07c6f35-af5f-44ea-9e0a-7f4eaefd824f"
      },
      "execution_count": 130,
      "outputs": [
        {
          "output_type": "execute_result",
          "data": {
            "text/plain": [
              "'a'"
            ],
            "application/vnd.google.colaboratory.intrinsic+json": {
              "type": "string"
            }
          },
          "metadata": {},
          "execution_count": 130
        }
      ]
    },
    {
      "cell_type": "code",
      "source": [
        "dict.keys()"
      ],
      "metadata": {
        "colab": {
          "base_uri": "https://localhost:8080/"
        },
        "id": "QDetCa4KDj5J",
        "outputId": "614fbd0f-d2fe-4e2f-d9e4-cbd823447356"
      },
      "execution_count": 131,
      "outputs": [
        {
          "output_type": "execute_result",
          "data": {
            "text/plain": [
              "dict_keys([1, 'date', 99])"
            ]
          },
          "metadata": {},
          "execution_count": 131
        }
      ]
    },
    {
      "cell_type": "code",
      "source": [
        "\n",
        "dict.keys()\n",
        "dict['a']='alpla'\n",
        "dict"
      ],
      "metadata": {
        "colab": {
          "base_uri": "https://localhost:8080/"
        },
        "id": "D2pxZcIGDvFg",
        "outputId": "0155cc30-53f8-496b-a3e9-05ab63f87b67"
      },
      "execution_count": 133,
      "outputs": [
        {
          "output_type": "execute_result",
          "data": {
            "text/plain": [
              "{1: 'a', 'date': 'cat', 99: 'bag', 'a': 'alpla'}"
            ]
          },
          "metadata": {},
          "execution_count": 133
        }
      ]
    },
    {
      "cell_type": "code",
      "source": [
        "dict.items()"
      ],
      "metadata": {
        "colab": {
          "base_uri": "https://localhost:8080/"
        },
        "id": "vSoUvNSVECbm",
        "outputId": "ed78c3e1-b90f-4262-d7c0-851592507013"
      },
      "execution_count": 134,
      "outputs": [
        {
          "output_type": "execute_result",
          "data": {
            "text/plain": [
              "dict_items([(1, 'a'), ('date', 'cat'), (99, 'bag'), ('a', 'alpla')])"
            ]
          },
          "metadata": {},
          "execution_count": 134
        }
      ]
    },
    {
      "cell_type": "code",
      "source": [
        "dict2={1: 'a', 'date': 'cat', 99: 'bag', 'a': 'alpla'}\n",
        "for i in dict2:\n",
        "  print(i)"
      ],
      "metadata": {
        "colab": {
          "base_uri": "https://localhost:8080/"
        },
        "id": "y_xxo1X0EJlp",
        "outputId": "ef1aa095-d696-4ae5-f389-cd474f77fdf1"
      },
      "execution_count": 135,
      "outputs": [
        {
          "output_type": "stream",
          "name": "stdout",
          "text": [
            "1\n",
            "date\n",
            "99\n",
            "a\n"
          ]
        }
      ]
    },
    {
      "cell_type": "code",
      "source": [
        "\n",
        "dict2={1: 'a', 'date': 'cat', 99: 'bag', 'a': 'alpla'}\n",
        "for x,y in dict2.items():\n",
        "  print(x,y)"
      ],
      "metadata": {
        "colab": {
          "base_uri": "https://localhost:8080/"
        },
        "id": "wyulBr91E7zM",
        "outputId": "b41e6e8b-3a99-441f-f344-ba514e3a30e6"
      },
      "execution_count": 142,
      "outputs": [
        {
          "output_type": "stream",
          "name": "stdout",
          "text": [
            "1 a\n",
            "date cat\n",
            "99 bag\n",
            "a alpla\n"
          ]
        }
      ]
    },
    {
      "cell_type": "code",
      "source": [
        "dict2={1: 'a', 'date': 'cat', 99: 'bag', 'a': 'alpla'}\n",
        "for x in dict2.keys():\n",
        "  print(x)"
      ],
      "metadata": {
        "colab": {
          "base_uri": "https://localhost:8080/"
        },
        "id": "lVqYaAC6LfUa",
        "outputId": "5177cde1-c145-401d-f005-59e3a29688fe"
      },
      "execution_count": 143,
      "outputs": [
        {
          "output_type": "stream",
          "name": "stdout",
          "text": [
            "1\n",
            "date\n",
            "99\n",
            "a\n"
          ]
        }
      ]
    },
    {
      "cell_type": "code",
      "source": [
        "dict1={1: 'a', 'dates': 'cat1', 991: 'bag3', 'fad': 'alplabet'}\n",
        "dict2={2: 'ad', 'date44': 'cat2', 991: 'bag2', 'sad': 'alplacat'}\n",
        "dict3={3: 'ar', 'date': 'cat', 99: 'bag', 'a': 'alpla'}\n",
        "myfam={\"dict1\":dict1,\"dict2\":dict2,\"dict3\":dict3}\n",
        "myfam"
      ],
      "metadata": {
        "colab": {
          "base_uri": "https://localhost:8080/"
        },
        "id": "Werw5Wc3Lt8s",
        "outputId": "dff96376-0a02-40f9-d0a1-250ace7a71e2"
      },
      "execution_count": 145,
      "outputs": [
        {
          "output_type": "execute_result",
          "data": {
            "text/plain": [
              "{'dict1': {1: 'a', 'dates': 'cat1', 991: 'bag3', 'fad': 'alplabet'},\n",
              " 'dict2': {2: 'ad', 'date44': 'cat2', 991: 'bag2', 'sad': 'alplacat'},\n",
              " 'dict3': {3: 'ar', 'date': 'cat', 99: 'bag', 'a': 'alpla'}}"
            ]
          },
          "metadata": {},
          "execution_count": 145
        }
      ]
    },
    {
      "cell_type": "code",
      "source": [
        "dict2={2: 'ad', 'date44': 'cat2', 991: 'bag2', 'sad': 'alplacat'}\n",
        "dict2.setdefault(2)"
      ],
      "metadata": {
        "colab": {
          "base_uri": "https://localhost:8080/",
          "height": 35
        },
        "id": "v5DLjIfQMdKW",
        "outputId": "324a7b29-61af-443c-d803-28572a455bb9"
      },
      "execution_count": 146,
      "outputs": [
        {
          "output_type": "execute_result",
          "data": {
            "text/plain": [
              "'ad'"
            ],
            "application/vnd.google.colaboratory.intrinsic+json": {
              "type": "string"
            }
          },
          "metadata": {},
          "execution_count": 146
        }
      ]
    }
  ]
}